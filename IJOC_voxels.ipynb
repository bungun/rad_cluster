{
 "cells": [
  {
   "cell_type": "code",
   "execution_count": 1,
   "metadata": {},
   "outputs": [
    {
     "name": "stdout",
     "output_type": "stream",
     "text": [
      "optkit backend set to cpu64\n",
      "Libraries for configuration gpu32 not found. Trying next configuration.\n",
      "Libraries for configuration gpu64 not found. Trying next configuration.\n",
      "Libraries for configuration cpu32 not found. Trying next configuration.\n",
      "optkit backend set to cpu64\n"
     ]
    },
    {
     "data": {
      "text/plain": [
       "1"
      ]
     },
     "execution_count": 1,
     "metadata": {},
     "output_type": "execute_result"
    }
   ],
   "source": [
    "import optkit as ok\n",
    "import numpy as np\n",
    "ok.set_backend(gpu=True, double=False)"
   ]
  },
  {
   "cell_type": "code",
   "execution_count": 2,
   "metadata": {},
   "outputs": [],
   "source": [
    "import radopt as ro\n",
    "import IJOC_analyses\n",
    "from IPython.display import display, Math, Markdown\n",
    "import bokeh, bokeh.plotting, bokeh.io"
   ]
  },
  {
   "cell_type": "code",
   "execution_count": 3,
   "metadata": {},
   "outputs": [
    {
     "data": {
      "text/html": [
       "\n",
       "    <div class=\"bk-root\">\n",
       "        <a href=\"https://bokeh.pydata.org\" target=\"_blank\" class=\"bk-logo bk-logo-small bk-logo-notebook\"></a>\n",
       "        <span id=\"b124e659-7534-4b19-9d4c-f14e287d9316\">Loading BokehJS ...</span>\n",
       "    </div>"
      ]
     },
     "metadata": {},
     "output_type": "display_data"
    },
    {
     "data": {
      "application/javascript": [
       "\n",
       "(function(root) {\n",
       "  function now() {\n",
       "    return new Date();\n",
       "  }\n",
       "\n",
       "  var force = true;\n",
       "\n",
       "  if (typeof (root._bokeh_onload_callbacks) === \"undefined\" || force === true) {\n",
       "    root._bokeh_onload_callbacks = [];\n",
       "    root._bokeh_is_loading = undefined;\n",
       "  }\n",
       "\n",
       "  var JS_MIME_TYPE = 'application/javascript';\n",
       "  var HTML_MIME_TYPE = 'text/html';\n",
       "  var EXEC_MIME_TYPE = 'application/vnd.bokehjs_exec.v0+json';\n",
       "  var CLASS_NAME = 'output_bokeh rendered_html';\n",
       "\n",
       "  /**\n",
       "   * Render data to the DOM node\n",
       "   */\n",
       "  function render(props, node) {\n",
       "    var script = document.createElement(\"script\");\n",
       "    node.appendChild(script);\n",
       "  }\n",
       "\n",
       "  /**\n",
       "   * Handle when an output is cleared or removed\n",
       "   */\n",
       "  function handleClearOutput(event, handle) {\n",
       "    var cell = handle.cell;\n",
       "\n",
       "    var id = cell.output_area._bokeh_element_id;\n",
       "    var server_id = cell.output_area._bokeh_server_id;\n",
       "    // Clean up Bokeh references\n",
       "    if (id !== undefined) {\n",
       "      Bokeh.index[id].model.document.clear();\n",
       "      delete Bokeh.index[id];\n",
       "    }\n",
       "\n",
       "    if (server_id !== undefined) {\n",
       "      // Clean up Bokeh references\n",
       "      var cmd = \"from bokeh.io.state import curstate; print(curstate().uuid_to_server['\" + server_id + \"'].get_sessions()[0].document.roots[0]._id)\";\n",
       "      cell.notebook.kernel.execute(cmd, {\n",
       "        iopub: {\n",
       "          output: function(msg) {\n",
       "            var element_id = msg.content.text.trim();\n",
       "            Bokeh.index[element_id].model.document.clear();\n",
       "            delete Bokeh.index[element_id];\n",
       "          }\n",
       "        }\n",
       "      });\n",
       "      // Destroy server and session\n",
       "      var cmd = \"import bokeh.io.notebook as ion; ion.destroy_server('\" + server_id + \"')\";\n",
       "      cell.notebook.kernel.execute(cmd);\n",
       "    }\n",
       "  }\n",
       "\n",
       "  /**\n",
       "   * Handle when a new output is added\n",
       "   */\n",
       "  function handleAddOutput(event, handle) {\n",
       "    var output_area = handle.output_area;\n",
       "    var output = handle.output;\n",
       "\n",
       "    // limit handleAddOutput to display_data with EXEC_MIME_TYPE content only\n",
       "    if ((output.output_type != \"display_data\") || (!output.data.hasOwnProperty(EXEC_MIME_TYPE))) {\n",
       "      return\n",
       "    }\n",
       "\n",
       "    var toinsert = output_area.element.find(\".\" + CLASS_NAME.split(' ')[0]);\n",
       "\n",
       "    if (output.metadata[EXEC_MIME_TYPE][\"id\"] !== undefined) {\n",
       "      toinsert[toinsert.length - 1].firstChild.textContent = output.data[JS_MIME_TYPE];\n",
       "      // store reference to embed id on output_area\n",
       "      output_area._bokeh_element_id = output.metadata[EXEC_MIME_TYPE][\"id\"];\n",
       "    }\n",
       "    if (output.metadata[EXEC_MIME_TYPE][\"server_id\"] !== undefined) {\n",
       "      var bk_div = document.createElement(\"div\");\n",
       "      bk_div.innerHTML = output.data[HTML_MIME_TYPE];\n",
       "      var script_attrs = bk_div.children[0].attributes;\n",
       "      for (var i = 0; i < script_attrs.length; i++) {\n",
       "        toinsert[toinsert.length - 1].firstChild.setAttribute(script_attrs[i].name, script_attrs[i].value);\n",
       "      }\n",
       "      // store reference to server id on output_area\n",
       "      output_area._bokeh_server_id = output.metadata[EXEC_MIME_TYPE][\"server_id\"];\n",
       "    }\n",
       "  }\n",
       "\n",
       "  function register_renderer(events, OutputArea) {\n",
       "\n",
       "    function append_mime(data, metadata, element) {\n",
       "      // create a DOM node to render to\n",
       "      var toinsert = this.create_output_subarea(\n",
       "        metadata,\n",
       "        CLASS_NAME,\n",
       "        EXEC_MIME_TYPE\n",
       "      );\n",
       "      this.keyboard_manager.register_events(toinsert);\n",
       "      // Render to node\n",
       "      var props = {data: data, metadata: metadata[EXEC_MIME_TYPE]};\n",
       "      render(props, toinsert[toinsert.length - 1]);\n",
       "      element.append(toinsert);\n",
       "      return toinsert\n",
       "    }\n",
       "\n",
       "    /* Handle when an output is cleared or removed */\n",
       "    events.on('clear_output.CodeCell', handleClearOutput);\n",
       "    events.on('delete.Cell', handleClearOutput);\n",
       "\n",
       "    /* Handle when a new output is added */\n",
       "    events.on('output_added.OutputArea', handleAddOutput);\n",
       "\n",
       "    /**\n",
       "     * Register the mime type and append_mime function with output_area\n",
       "     */\n",
       "    OutputArea.prototype.register_mime_type(EXEC_MIME_TYPE, append_mime, {\n",
       "      /* Is output safe? */\n",
       "      safe: true,\n",
       "      /* Index of renderer in `output_area.display_order` */\n",
       "      index: 0\n",
       "    });\n",
       "  }\n",
       "\n",
       "  // register the mime type if in Jupyter Notebook environment and previously unregistered\n",
       "  if (root.Jupyter !== undefined) {\n",
       "    var events = require('base/js/events');\n",
       "    var OutputArea = require('notebook/js/outputarea').OutputArea;\n",
       "\n",
       "    if (OutputArea.prototype.mime_types().indexOf(EXEC_MIME_TYPE) == -1) {\n",
       "      register_renderer(events, OutputArea);\n",
       "    }\n",
       "  }\n",
       "\n",
       "  \n",
       "  if (typeof (root._bokeh_timeout) === \"undefined\" || force === true) {\n",
       "    root._bokeh_timeout = Date.now() + 5000;\n",
       "    root._bokeh_failed_load = false;\n",
       "  }\n",
       "\n",
       "  var NB_LOAD_WARNING = {'data': {'text/html':\n",
       "     \"<div style='background-color: #fdd'>\\n\"+\n",
       "     \"<p>\\n\"+\n",
       "     \"BokehJS does not appear to have successfully loaded. If loading BokehJS from CDN, this \\n\"+\n",
       "     \"may be due to a slow or bad network connection. Possible fixes:\\n\"+\n",
       "     \"</p>\\n\"+\n",
       "     \"<ul>\\n\"+\n",
       "     \"<li>re-rerun `output_notebook()` to attempt to load from CDN again, or</li>\\n\"+\n",
       "     \"<li>use INLINE resources instead, as so:</li>\\n\"+\n",
       "     \"</ul>\\n\"+\n",
       "     \"<code>\\n\"+\n",
       "     \"from bokeh.resources import INLINE\\n\"+\n",
       "     \"output_notebook(resources=INLINE)\\n\"+\n",
       "     \"</code>\\n\"+\n",
       "     \"</div>\"}};\n",
       "\n",
       "  function display_loaded() {\n",
       "    var el = document.getElementById(\"b124e659-7534-4b19-9d4c-f14e287d9316\");\n",
       "    if (el != null) {\n",
       "      el.textContent = \"BokehJS is loading...\";\n",
       "    }\n",
       "    if (root.Bokeh !== undefined) {\n",
       "      if (el != null) {\n",
       "        el.textContent = \"BokehJS \" + root.Bokeh.version + \" successfully loaded.\";\n",
       "      }\n",
       "    } else if (Date.now() < root._bokeh_timeout) {\n",
       "      setTimeout(display_loaded, 100)\n",
       "    }\n",
       "  }\n",
       "\n",
       "\n",
       "  function run_callbacks() {\n",
       "    try {\n",
       "      root._bokeh_onload_callbacks.forEach(function(callback) { callback() });\n",
       "    }\n",
       "    finally {\n",
       "      delete root._bokeh_onload_callbacks\n",
       "    }\n",
       "    console.info(\"Bokeh: all callbacks have finished\");\n",
       "  }\n",
       "\n",
       "  function load_libs(js_urls, callback) {\n",
       "    root._bokeh_onload_callbacks.push(callback);\n",
       "    if (root._bokeh_is_loading > 0) {\n",
       "      console.log(\"Bokeh: BokehJS is being loaded, scheduling callback at\", now());\n",
       "      return null;\n",
       "    }\n",
       "    if (js_urls == null || js_urls.length === 0) {\n",
       "      run_callbacks();\n",
       "      return null;\n",
       "    }\n",
       "    console.log(\"Bokeh: BokehJS not loaded, scheduling load and callback at\", now());\n",
       "    root._bokeh_is_loading = js_urls.length;\n",
       "    for (var i = 0; i < js_urls.length; i++) {\n",
       "      var url = js_urls[i];\n",
       "      var s = document.createElement('script');\n",
       "      s.src = url;\n",
       "      s.async = false;\n",
       "      s.onreadystatechange = s.onload = function() {\n",
       "        root._bokeh_is_loading--;\n",
       "        if (root._bokeh_is_loading === 0) {\n",
       "          console.log(\"Bokeh: all BokehJS libraries loaded\");\n",
       "          run_callbacks()\n",
       "        }\n",
       "      };\n",
       "      s.onerror = function() {\n",
       "        console.warn(\"failed to load library \" + url);\n",
       "      };\n",
       "      console.log(\"Bokeh: injecting script tag for BokehJS library: \", url);\n",
       "      document.getElementsByTagName(\"head\")[0].appendChild(s);\n",
       "    }\n",
       "  };var element = document.getElementById(\"b124e659-7534-4b19-9d4c-f14e287d9316\");\n",
       "  if (element == null) {\n",
       "    console.log(\"Bokeh: ERROR: autoload.js configured with elementid 'b124e659-7534-4b19-9d4c-f14e287d9316' but no matching script tag was found. \")\n",
       "    return false;\n",
       "  }\n",
       "\n",
       "  var js_urls = [\"https://cdn.pydata.org/bokeh/release/bokeh-0.12.15.min.js\", \"https://cdn.pydata.org/bokeh/release/bokeh-widgets-0.12.15.min.js\", \"https://cdn.pydata.org/bokeh/release/bokeh-tables-0.12.15.min.js\", \"https://cdn.pydata.org/bokeh/release/bokeh-gl-0.12.15.min.js\"];\n",
       "\n",
       "  var inline_js = [\n",
       "    function(Bokeh) {\n",
       "      Bokeh.set_log_level(\"info\");\n",
       "    },\n",
       "    \n",
       "    function(Bokeh) {\n",
       "      \n",
       "    },\n",
       "    function(Bokeh) {\n",
       "      console.log(\"Bokeh: injecting CSS: https://cdn.pydata.org/bokeh/release/bokeh-0.12.15.min.css\");\n",
       "      Bokeh.embed.inject_css(\"https://cdn.pydata.org/bokeh/release/bokeh-0.12.15.min.css\");\n",
       "      console.log(\"Bokeh: injecting CSS: https://cdn.pydata.org/bokeh/release/bokeh-widgets-0.12.15.min.css\");\n",
       "      Bokeh.embed.inject_css(\"https://cdn.pydata.org/bokeh/release/bokeh-widgets-0.12.15.min.css\");\n",
       "      console.log(\"Bokeh: injecting CSS: https://cdn.pydata.org/bokeh/release/bokeh-tables-0.12.15.min.css\");\n",
       "      Bokeh.embed.inject_css(\"https://cdn.pydata.org/bokeh/release/bokeh-tables-0.12.15.min.css\");\n",
       "    }\n",
       "  ];\n",
       "\n",
       "  function run_inline_js() {\n",
       "    \n",
       "    if ((root.Bokeh !== undefined) || (force === true)) {\n",
       "      for (var i = 0; i < inline_js.length; i++) {\n",
       "        inline_js[i].call(root, root.Bokeh);\n",
       "      }if (force === true) {\n",
       "        display_loaded();\n",
       "      }} else if (Date.now() < root._bokeh_timeout) {\n",
       "      setTimeout(run_inline_js, 100);\n",
       "    } else if (!root._bokeh_failed_load) {\n",
       "      console.log(\"Bokeh: BokehJS failed to load within specified timeout.\");\n",
       "      root._bokeh_failed_load = true;\n",
       "    } else if (force !== true) {\n",
       "      var cell = $(document.getElementById(\"b124e659-7534-4b19-9d4c-f14e287d9316\")).parents('.cell').data().cell;\n",
       "      cell.output_area.append_execute_result(NB_LOAD_WARNING)\n",
       "    }\n",
       "\n",
       "  }\n",
       "\n",
       "  if (root._bokeh_is_loading === 0) {\n",
       "    console.log(\"Bokeh: BokehJS loaded, going straight to plotting\");\n",
       "    run_inline_js();\n",
       "  } else {\n",
       "    load_libs(js_urls, function() {\n",
       "      console.log(\"Bokeh: BokehJS plotting callback run at\", now());\n",
       "      run_inline_js();\n",
       "    });\n",
       "  }\n",
       "}(window));"
      ],
      "application/vnd.bokehjs_load.v0+json": "\n(function(root) {\n  function now() {\n    return new Date();\n  }\n\n  var force = true;\n\n  if (typeof (root._bokeh_onload_callbacks) === \"undefined\" || force === true) {\n    root._bokeh_onload_callbacks = [];\n    root._bokeh_is_loading = undefined;\n  }\n\n  \n\n  \n  if (typeof (root._bokeh_timeout) === \"undefined\" || force === true) {\n    root._bokeh_timeout = Date.now() + 5000;\n    root._bokeh_failed_load = false;\n  }\n\n  var NB_LOAD_WARNING = {'data': {'text/html':\n     \"<div style='background-color: #fdd'>\\n\"+\n     \"<p>\\n\"+\n     \"BokehJS does not appear to have successfully loaded. If loading BokehJS from CDN, this \\n\"+\n     \"may be due to a slow or bad network connection. Possible fixes:\\n\"+\n     \"</p>\\n\"+\n     \"<ul>\\n\"+\n     \"<li>re-rerun `output_notebook()` to attempt to load from CDN again, or</li>\\n\"+\n     \"<li>use INLINE resources instead, as so:</li>\\n\"+\n     \"</ul>\\n\"+\n     \"<code>\\n\"+\n     \"from bokeh.resources import INLINE\\n\"+\n     \"output_notebook(resources=INLINE)\\n\"+\n     \"</code>\\n\"+\n     \"</div>\"}};\n\n  function display_loaded() {\n    var el = document.getElementById(\"b124e659-7534-4b19-9d4c-f14e287d9316\");\n    if (el != null) {\n      el.textContent = \"BokehJS is loading...\";\n    }\n    if (root.Bokeh !== undefined) {\n      if (el != null) {\n        el.textContent = \"BokehJS \" + root.Bokeh.version + \" successfully loaded.\";\n      }\n    } else if (Date.now() < root._bokeh_timeout) {\n      setTimeout(display_loaded, 100)\n    }\n  }\n\n\n  function run_callbacks() {\n    try {\n      root._bokeh_onload_callbacks.forEach(function(callback) { callback() });\n    }\n    finally {\n      delete root._bokeh_onload_callbacks\n    }\n    console.info(\"Bokeh: all callbacks have finished\");\n  }\n\n  function load_libs(js_urls, callback) {\n    root._bokeh_onload_callbacks.push(callback);\n    if (root._bokeh_is_loading > 0) {\n      console.log(\"Bokeh: BokehJS is being loaded, scheduling callback at\", now());\n      return null;\n    }\n    if (js_urls == null || js_urls.length === 0) {\n      run_callbacks();\n      return null;\n    }\n    console.log(\"Bokeh: BokehJS not loaded, scheduling load and callback at\", now());\n    root._bokeh_is_loading = js_urls.length;\n    for (var i = 0; i < js_urls.length; i++) {\n      var url = js_urls[i];\n      var s = document.createElement('script');\n      s.src = url;\n      s.async = false;\n      s.onreadystatechange = s.onload = function() {\n        root._bokeh_is_loading--;\n        if (root._bokeh_is_loading === 0) {\n          console.log(\"Bokeh: all BokehJS libraries loaded\");\n          run_callbacks()\n        }\n      };\n      s.onerror = function() {\n        console.warn(\"failed to load library \" + url);\n      };\n      console.log(\"Bokeh: injecting script tag for BokehJS library: \", url);\n      document.getElementsByTagName(\"head\")[0].appendChild(s);\n    }\n  };var element = document.getElementById(\"b124e659-7534-4b19-9d4c-f14e287d9316\");\n  if (element == null) {\n    console.log(\"Bokeh: ERROR: autoload.js configured with elementid 'b124e659-7534-4b19-9d4c-f14e287d9316' but no matching script tag was found. \")\n    return false;\n  }\n\n  var js_urls = [\"https://cdn.pydata.org/bokeh/release/bokeh-0.12.15.min.js\", \"https://cdn.pydata.org/bokeh/release/bokeh-widgets-0.12.15.min.js\", \"https://cdn.pydata.org/bokeh/release/bokeh-tables-0.12.15.min.js\", \"https://cdn.pydata.org/bokeh/release/bokeh-gl-0.12.15.min.js\"];\n\n  var inline_js = [\n    function(Bokeh) {\n      Bokeh.set_log_level(\"info\");\n    },\n    \n    function(Bokeh) {\n      \n    },\n    function(Bokeh) {\n      console.log(\"Bokeh: injecting CSS: https://cdn.pydata.org/bokeh/release/bokeh-0.12.15.min.css\");\n      Bokeh.embed.inject_css(\"https://cdn.pydata.org/bokeh/release/bokeh-0.12.15.min.css\");\n      console.log(\"Bokeh: injecting CSS: https://cdn.pydata.org/bokeh/release/bokeh-widgets-0.12.15.min.css\");\n      Bokeh.embed.inject_css(\"https://cdn.pydata.org/bokeh/release/bokeh-widgets-0.12.15.min.css\");\n      console.log(\"Bokeh: injecting CSS: https://cdn.pydata.org/bokeh/release/bokeh-tables-0.12.15.min.css\");\n      Bokeh.embed.inject_css(\"https://cdn.pydata.org/bokeh/release/bokeh-tables-0.12.15.min.css\");\n    }\n  ];\n\n  function run_inline_js() {\n    \n    if ((root.Bokeh !== undefined) || (force === true)) {\n      for (var i = 0; i < inline_js.length; i++) {\n        inline_js[i].call(root, root.Bokeh);\n      }if (force === true) {\n        display_loaded();\n      }} else if (Date.now() < root._bokeh_timeout) {\n      setTimeout(run_inline_js, 100);\n    } else if (!root._bokeh_failed_load) {\n      console.log(\"Bokeh: BokehJS failed to load within specified timeout.\");\n      root._bokeh_failed_load = true;\n    } else if (force !== true) {\n      var cell = $(document.getElementById(\"b124e659-7534-4b19-9d4c-f14e287d9316\")).parents('.cell').data().cell;\n      cell.output_area.append_execute_result(NB_LOAD_WARNING)\n    }\n\n  }\n\n  if (root._bokeh_is_loading === 0) {\n    console.log(\"Bokeh: BokehJS loaded, going straight to plotting\");\n    run_inline_js();\n  } else {\n    load_libs(js_urls, function() {\n      console.log(\"Bokeh: BokehJS plotting callback run at\", now());\n      run_inline_js();\n    });\n  }\n}(window));"
     },
     "metadata": {},
     "output_type": "display_data"
    }
   ],
   "source": [
    "bokeh.io.output_notebook()"
   ]
  },
  {
   "cell_type": "markdown",
   "metadata": {},
   "source": [
    "### load dose matrices, clustering maps"
   ]
  },
  {
   "cell_type": "code",
   "execution_count": 4,
   "metadata": {},
   "outputs": [],
   "source": [
    "N_STRUCTURES = 16\n",
    "N_TARGETS = 3 \n",
    "\n",
    "N_BEAMS = 100\n",
    "M = VOX_PER_STRUCTURE = 500\n",
    "K = CLUSTERS_PER_STRUCTURE = 100"
   ]
  },
  {
   "cell_type": "markdown",
   "metadata": {},
   "source": [
    "replace the next cell with:\n",
    "===============\n",
    "- loading dose matrices\n",
    "- loading voxel clustering assignments (if pre-calculated)\n",
    "- loading voxel-clustered matrices (if pre-calculated)\n",
    "\n",
    "or, load the dose matrices and\n",
    "- calculate voxel clustering assignments (as below)\n",
    "- calculate voxel-clustered matrices (as below).\n",
    "\n",
    "------\n",
    "\n",
    "**_In this example,_** we generate random dose matrices\n",
    "$$A_s \\in \\mathbf{R}_+^{m_s \\times n},\\quad s=1,\\ldots,N_s$$\n",
    "for each structure `s`, with the values drawn \n",
    "from a normal distribution and thresholded to be nonnegative.\n",
    "\n",
    "We generate an cluster assignment matrix for each structure,\n",
    "$$U_s \\in \\mathbf{R}^{k_s \\times m_s}$$\n",
    "which we use to form the voxel-clustered dose matrices\n",
    "$$A_{\\mathcal{R}s} \\in \\mathbf{R}^{k_s \\times n}$$ \n",
    "such that \n",
    "$$A_s \\approx U_sA_{\\mathcal{C}s},\\quad s=1,\\ldots,N_s,$$\n",
    "i.e., each structure's full dose matrix is approximated by the\n",
    "its corresponding voxel-clustered dose matrix when the rows\n",
    "of the latter are upsampled according to the cluster assignments\n",
    "encoded by `U_s`.\n",
    "\n",
    "**N.B.:** For non-target structures, we take \n",
    "$$U_s = I.$$"
   ]
  },
  {
   "cell_type": "code",
   "execution_count": 5,
   "metadata": {},
   "outputs": [],
   "source": [
    "stdev = 0.1\n",
    "def meanval(structure_id):\n",
    "    return 1.0 if structure_id == 0 else (0.9 if structure_id < N_TARGETS else 0.1)\n",
    "def random_dosemat(structure_id):\n",
    "    return np.maximum(0, np.random.normal(meanval(structure_id), stdev, (M, N_BEAMS)))\n",
    "\n",
    "# dose matrices per structure with full # of voxels\n",
    "A = {k: random_dosemat(k) for k in range(N_STRUCTURES)}\n",
    "\n",
    "# run k-means on rows of each target matrix\n",
    "cluster_maps = dict()\n",
    "for s in range(N_STRUCTURES):\n",
    "    if s >= N_TARGETS:\n",
    "        cluster_maps[s] = ro.clustering.IdentityMap()\n",
    "    else:\n",
    "        u_guess = np.sort(np.hstack((np.random.permutation(K), np.random.randint(0, K, M-K))))\n",
    "        _, u, _ = ok.api.Clustering().kmeans(A[s], K, u_guess)\n",
    "        cluster_maps[s] = ro.clustering.ClusterMap(M, u.max()+1, u)\n",
    "\n",
    "# apply clustering from k-means to form beam-clustered matrices per structure\n",
    "vclu_matrices = ro.clustering.downsample(cluster_maps, A)\n",
    "full_matrices = A"
   ]
  },
  {
   "cell_type": "markdown",
   "metadata": {},
   "source": [
    "### build structures"
   ]
  },
  {
   "cell_type": "code",
   "execution_count": 6,
   "metadata": {},
   "outputs": [],
   "source": [
    "names = {\n",
    "    0: 'PTV 66Gy',\n",
    "    1: 'PTV R Frontal + Neck 60Gy',\n",
    "    2: 'PTV L Frontal 60Gy',\n",
    "    3: 'Eye L',\n",
    "    4: 'Lens L',\n",
    "    5: 'Brainstem',\n",
    "    6: 'Spinal Canal',\n",
    "    7: 'Submandibular L',\n",
    "    8: 'Cochlea R',\n",
    "    9: 'Larynx',\n",
    "    10: 'Oral Cavity',\n",
    "    11: 'Brain',\n",
    "    12: 'Optic Nerve L',\n",
    "    13: 'Optic Chiasm',\n",
    "    14: 'Cord',\n",
    "    15: 'Body',\n",
    "}\n",
    "target_ids = list(range(N_TARGETS))\n",
    "OAR_ids = list(range(N_TARGETS, N_STRUCTURES)) \n",
    "structure_order = target_ids + OAR_ids\n",
    "structure_doses = {0: 66, 1: 60, 2: 60}"
   ]
  },
  {
   "cell_type": "code",
   "execution_count": 7,
   "metadata": {},
   "outputs": [],
   "source": [
    "sizes = {s: full_matrices[s].shape[0] for s in structure_order}  \n",
    "\n",
    "structures = {\n",
    "        sid: ro.structure.Target(names[sid], sizes[sid], dose=structure_doses[sid]) \n",
    "        for sid in target_ids}    \n",
    "\n",
    "structures.update({\n",
    "        sid: ro.structure.OAR(names[sid], sizes[sid]) \n",
    "        for sid in OAR_ids})"
   ]
  },
  {
   "cell_type": "markdown",
   "metadata": {},
   "source": [
    "### build clinical constraints"
   ]
  },
  {
   "cell_type": "code",
   "execution_count": 8,
   "metadata": {},
   "outputs": [],
   "source": [
    "constraints = dict()\n",
    "constraints['PTV 66Gy'] = (ro.constraint.D(95) > 66,)\n",
    "constraints['PTV R Frontal + Neck 60Gy'] = (ro.constraint.D(95) > 60,)\n",
    "constraints['PTV L Frontal 60Gy'] = (ro.constraint.D(95) > 60,)\n",
    "#### These constraints used for experiments; unlikely to hold with random dose matrices & clusters\n",
    "# constraints['Cord'] = (ro.constraint.D(1) < 50,) \n",
    "# constraints['Brainstem'] = (ro.constraint.D(1) < 54,)\n",
    "# constraints['Optic Nerve L'] = (ro.constraint.D(1) < 54,)\n",
    "# constraints['Optic Chiasm'] = (ro.constraint.D(1) < 55,)\n",
    "# constraints['Spinal Canal'] = (ro.constraint.D(1) < 50,)\n",
    "# # constraints['Parotid L'] = (ro.constraint.D('mean') < 20,)\n",
    "# constraints['Larynx'] = (ro.constraint.D('mean') < 44, ro.constraint.D(27) < 55)\n",
    "# constraints['Cochlea R'] = (ro.constraint.D('mean') < 45,)\n"
   ]
  },
  {
   "cell_type": "markdown",
   "metadata": {},
   "source": [
    "### build clustered problem"
   ]
  },
  {
   "cell_type": "code",
   "execution_count": 9,
   "metadata": {},
   "outputs": [],
   "source": [
    "problem = ro.compression.VoxelClusteredProblem(\n",
    "        structures=structures, \n",
    "        A_full=full_matrices, \n",
    "        A_vclu=vclu_matrices,\n",
    "        cluster_maps=cluster_maps)\n",
    "# problem.structures.update(structures)\n",
    "# problem.A_full.update(full_matrices)\n",
    "# problem.A_vclu.update(vclu_matrices)\n",
    "# problem.cluster_maps.update(cluster_maps)\n",
    "problem.set_key_order(structure_order)\n",
    "constraints = problem.rekey_dictionary_by_ids(constraints)"
   ]
  },
  {
   "cell_type": "markdown",
   "metadata": {},
   "source": [
    "### build full problem"
   ]
  },
  {
   "cell_type": "code",
   "execution_count": 10,
   "metadata": {},
   "outputs": [],
   "source": [
    "full_problem = problem.full_problem()"
   ]
  },
  {
   "cell_type": "markdown",
   "metadata": {},
   "source": [
    "### cold start + pareto sweep, full problem"
   ]
  },
  {
   "cell_type": "code",
   "execution_count": 11,
   "metadata": {},
   "outputs": [],
   "source": [
    "for sid in range(N_TARGETS, N_STRUCTURES):\n",
    "    problem.structures[sid].objective.parameters['weight'] = 1e-3\n",
    "for sid in range(N_TARGETS):\n",
    "    problem.structures[sid].objective.parameters['weight_underdose'] = 1\n",
    "    problem.structures[sid].objective.parameters['weight_overdose'] = 1e-3"
   ]
  },
  {
   "cell_type": "code",
   "execution_count": 12,
   "metadata": {},
   "outputs": [],
   "source": [
    "initial_weights = full_problem.current_weights()\n",
    "weight_increments = {k: 2 for k in initial_weights}\n",
    "weight_limits = {k: (0.3*iw, 3*iw) for k, iw in initial_weights.items()}"
   ]
  },
  {
   "cell_type": "code",
   "execution_count": 13,
   "metadata": {},
   "outputs": [],
   "source": [
    "cfp = ro.pareto.ClinicallyFeasiblePareto()"
   ]
  },
  {
   "cell_type": "code",
   "execution_count": 14,
   "metadata": {
    "scrolled": true
   },
   "outputs": [],
   "source": [
    "solutions_full = cfp.explore_weights(\n",
    "        full_problem, \n",
    "        initial_weights, \n",
    "        weight_increments, \n",
    "        weight_limits=weight_limits, \n",
    "        dose_constraints=constraints,\n",
    "        verbose_pareto=False,\n",
    "        verbose_constraints=False)\n",
    "\n",
    "summary_full = ro.compression.CompressionAnalysis.analyze(solutions_full)"
   ]
  },
  {
   "cell_type": "markdown",
   "metadata": {},
   "source": [
    "### cold start + pareto sweep, clustered problem(s)"
   ]
  },
  {
   "cell_type": "markdown",
   "metadata": {},
   "source": [
    "for additional compressed approximations to the same full problem, can perform:\n",
    "```python\n",
    "problem.A_vclu.update(new_compressed_matrix_dictionary)\n",
    "problem.cluster_map.update(new_cluster_map_dictionary)\n",
    "```\n",
    "and then repeat the next cell and any further analysis "
   ]
  },
  {
   "cell_type": "code",
   "execution_count": 15,
   "metadata": {},
   "outputs": [],
   "source": [
    "solutions_clu = cfp.explore_weights(\n",
    "        problem, \n",
    "        initial_weights, \n",
    "        weight_increments, \n",
    "        weight_limits=weight_limits, \n",
    "        dose_constraints=constraints,\n",
    "        verbose_pareto=False,\n",
    "        verbose_constraints=False)\n",
    "\n",
    "summary = ro.compression.CompressionAnalysis.analyze(solutions_clu, solutions_full)"
   ]
  },
  {
   "cell_type": "markdown",
   "metadata": {},
   "source": [
    "## results"
   ]
  },
  {
   "cell_type": "markdown",
   "metadata": {},
   "source": [
    "### tabular"
   ]
  },
  {
   "cell_type": "code",
   "execution_count": 16,
   "metadata": {},
   "outputs": [
    {
     "data": {
      "text/markdown": [
       "\n",
       "dimension |  time (s) |  subopt (%) |  true error (%)\n",
       "-|-|-|-\n",
       "(1513, 100) | 0.010 | -- | -- \n",
       "(313, 100)| 0.014 | 23.6 | 20.7 "
      ],
      "text/plain": [
       "<IPython.core.display.Markdown object>"
      ]
     },
     "metadata": {},
     "output_type": "display_data"
    }
   ],
   "source": [
    "display(Markdown(IJOC_analyses.vclu_table_cold(summary_full, summary)))"
   ]
  },
  {
   "cell_type": "code",
   "execution_count": 17,
   "metadata": {},
   "outputs": [
    {
     "data": {
      "text/latex": [
       "$$\n",
       "$$\\begin{array}\n",
       "\\mathrm{dimension} &  \\mathrm{time~(s)} &  \\mathrm{subopt~(\\%)} &  \\mathrm{true~error~(\\%)}\\\\\n",
       "(1513, 100) & 0.010 & -- & -- \\\\\n",
       "(313, 100)& 0.014 & 23.6 & 20.7 \\\\\n",
       "\\end{array} $$"
      ],
      "text/plain": [
       "<IPython.core.display.Math object>"
      ]
     },
     "metadata": {},
     "output_type": "display_data"
    }
   ],
   "source": [
    "display(Math(IJOC_analyses.vclu_table_cold(summary_full, summary, latex=True)))"
   ]
  },
  {
   "cell_type": "markdown",
   "metadata": {},
   "source": [
    "### plots"
   ]
  },
  {
   "cell_type": "code",
   "execution_count": 18,
   "metadata": {},
   "outputs": [
    {
     "data": {
      "text/markdown": [
       "\n",
       "dimension |  mean time (s) |  median time (s) |  mean subopt (%) |  median subopt (%) |  mean true error (%) |  median true error (%) |  runs\n",
       "-|-|-|-|-|-|-|-\n",
       "(1513, 100) | 0.003 | 0.001 | -- | -- | -- | -- | 38 \n",
       "(313, 100)| 0.002 | 0.002 | 41.3 | 40.2 | 36.0 | 42.8 | 38 "
      ],
      "text/plain": [
       "<IPython.core.display.Markdown object>"
      ]
     },
     "metadata": {},
     "output_type": "display_data"
    }
   ],
   "source": [
    "display(Markdown(IJOC_analyses.vclu_table_warm(summary_full, summary)))"
   ]
  },
  {
   "cell_type": "code",
   "execution_count": 19,
   "metadata": {},
   "outputs": [],
   "source": [
    "y_full = ro.primal.A_mul_x(full_matrices, solutions_full['nominal']['beam_weights'])\n",
    "y_vclu = ro.primal.A_mul_x(full_matrices, solutions_clu['nominal']['beam_weights'])"
   ]
  },
  {
   "cell_type": "code",
   "execution_count": 20,
   "metadata": {},
   "outputs": [],
   "source": [
    "def dvh(voxel_doses):\n",
    "    doses = np.hstack(([0], np.sort(voxel_doses)))\n",
    "    percentiles = np.linspace(100, 0, len(doses + 1))#\n",
    "    return (doses, percentiles)"
   ]
  },
  {
   "cell_type": "code",
   "execution_count": 21,
   "metadata": {},
   "outputs": [
    {
     "data": {
      "text/html": [
       "\n",
       "<div class=\"bk-root\">\n",
       "    <div class=\"bk-plotdiv\" id=\"741434ea-8493-457c-9796-b71975df4351\"></div>\n",
       "</div>"
      ]
     },
     "metadata": {},
     "output_type": "display_data"
    },
    {
     "data": {
      "application/javascript": [
       "(function(root) {\n",
       "  function embed_document(root) {\n",
       "    \n",
       "  var docs_json = {\"df24a5f5-1966-4ac8-81d4-b377b4d53818\":{\"roots\":{\"references\":[{\"attributes\":{\"source\":{\"id\":\"d5ae5ec0-9153-43a3-99f2-f0f87fb5e544\",\"type\":\"ColumnDataSource\"}},\"id\":\"adbcf779-49c0-4f68-b823-c7278ccee19e\",\"type\":\"CDSView\"},{\"attributes\":{\"line_color\":\"orange\",\"x\":{\"field\":\"x\"},\"y\":{\"field\":\"y\"}},\"id\":\"c4097415-95d0-4469-9255-f1184af2a482\",\"type\":\"Line\"},{\"attributes\":{\"data_source\":{\"id\":\"362ce0f1-d481-4561-bae0-46301dcad6ae\",\"type\":\"ColumnDataSource\"},\"glyph\":{\"id\":\"cdd91bae-7688-4491-858e-c2efc509ff4d\",\"type\":\"Line\"},\"hover_glyph\":null,\"muted_glyph\":null,\"nonselection_glyph\":{\"id\":\"ed1f5d03-78c6-4b2f-9cdd-db3d7718b59e\",\"type\":\"Line\"},\"selection_glyph\":null,\"view\":{\"id\":\"66653ed6-9e10-4bb1-b662-0074d036733f\",\"type\":\"CDSView\"}},\"id\":\"7499bb0e-f23d-47d8-a9b6-3e68bf92812e\",\"type\":\"GlyphRenderer\"},{\"attributes\":{\"callback\":null,\"column_names\":[\"x\",\"y\"],\"data\":{\"x\":{\"__ndarray__\":\"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\",\"dtype\":\"float64\",\"shape\":[501]},\"y\":{\"__ndarray__\":\"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\",\"dtype\":\"float64\",\"shape\":[501]}},\"selected\":null,\"selection_policy\":null},\"id\":\"34fb9266-8d7a-49af-95f0-be41c78ceb31\",\"type\":\"ColumnDataSource\"},{\"attributes\":{\"callback\":null},\"id\":\"c439c966-1112-490c-862b-51dff146700e\",\"type\":\"DataRange1d\"},{\"attributes\":{\"axis_label\":\"Dose (Gy)\",\"axis_label_text_font_size\":{\"value\":\"1em\"},\"formatter\":{\"id\":\"9a738c7a-4d9c-43fb-a305-2624e115b798\",\"type\":\"BasicTickFormatter\"},\"major_label_text_font_size\":{\"value\":\"1em\"},\"plot\":{\"id\":\"d80f1205-1b9a-4a50-93a2-d1a0b2278a2f\",\"subtype\":\"Figure\",\"type\":\"Plot\"},\"ticker\":{\"id\":\"f08f85b2-fb09-4f9d-8a08-cb11dbac538b\",\"type\":\"BasicTicker\"}},\"id\":\"8b2838ca-723c-46b0-b045-7730912d0a4b\",\"type\":\"LinearAxis\"},{\"attributes\":{\"label\":{\"value\":\"clustered\"},\"renderers\":[{\"id\":\"7499bb0e-f23d-47d8-a9b6-3e68bf92812e\",\"type\":\"GlyphRenderer\"}]},\"id\":\"16c78200-7d65-4349-af97-567ea9846275\",\"type\":\"LegendItem\"},{\"attributes\":{\"callback\":null,\"column_names\":[\"y\",\"x\"],\"data\":{\"x\":{\"__ndarray__\":\"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\",\"dtype\":\"float64\",\"shape\":[501]},\"y\":{\"__ndarray__\":\"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\",\"dtype\":\"float64\",\"shape\":[501]}},\"selected\":null,\"selection_policy\":null},\"id\":\"40c38ceb-4c4d-4066-8f46-97e43dc7412a\",\"type\":\"ColumnDataSource\"},{\"attributes\":{\"items\":[{\"id\":\"e6180ba7-70ef-4880-a0a4-472398827776\",\"type\":\"LegendItem\"},{\"id\":\"16c78200-7d65-4349-af97-567ea9846275\",\"type\":\"LegendItem\"}],\"label_text_font_size\":{\"value\":\"1em\"},\"location\":\"bottom_left\",\"plot\":{\"id\":\"d80f1205-1b9a-4a50-93a2-d1a0b2278a2f\",\"subtype\":\"Figure\",\"type\":\"Plot\"}},\"id\":\"96577d2f-cfa6-4c8d-836e-b53ca1ed1c89\",\"type\":\"Legend\"},{\"attributes\":{},\"id\":\"572d015d-b666-446a-bf6a-cffa911d80da\",\"type\":\"PanTool\"},{\"attributes\":{},\"id\":\"4c54ee6c-d5a8-4a0c-94fc-19c52f3156d6\",\"type\":\"BasicTickFormatter\"},{\"attributes\":{\"label\":{\"value\":\"full\"},\"renderers\":[{\"id\":\"8910b554-f418-41f5-8a3c-6d1f6bf775af\",\"type\":\"GlyphRenderer\"}]},\"id\":\"e6180ba7-70ef-4880-a0a4-472398827776\",\"type\":\"LegendItem\"},{\"attributes\":{\"callback\":null,\"column_names\":[\"y\",\"x\"],\"data\":{\"x\":{\"__ndarray__\":\"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\",\"dtype\":\"float64\",\"shape\":[501]},\"y\":{\"__ndarray__\":\"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\",\"dtype\":\"float64\",\"shape\":[501]}},\"selected\":null,\"selection_policy\":null},\"id\":\"d5ae5ec0-9153-43a3-99f2-f0f87fb5e544\",\"type\":\"ColumnDataSource\"},{\"attributes\":{\"source\":{\"id\":\"34fb9266-8d7a-49af-95f0-be41c78ceb31\",\"type\":\"ColumnDataSource\"}},\"id\":\"b8b02f6e-2cb8-45af-b24f-054fdf2d3e83\",\"type\":\"CDSView\"},{\"attributes\":{\"dimension\":1,\"plot\":{\"id\":\"d80f1205-1b9a-4a50-93a2-d1a0b2278a2f\",\"subtype\":\"Figure\",\"type\":\"Plot\"},\"ticker\":{\"id\":\"5d5b3c7d-42e7-4515-8e16-b73f528c2823\",\"type\":\"BasicTicker\"}},\"id\":\"18583dbe-4477-4d20-9acd-5c044da652e3\",\"type\":\"Grid\"},{\"attributes\":{},\"id\":\"3c1a3356-3e82-490a-bbed-224399ab678f\",\"type\":\"HelpTool\"},{\"attributes\":{\"line_color\":\"#1f77b4\",\"line_dash\":[5,2],\"line_width\":2,\"x\":{\"field\":\"x\"},\"y\":{\"field\":\"y\"}},\"id\":\"cdd91bae-7688-4491-858e-c2efc509ff4d\",\"type\":\"Line\"},{\"attributes\":{\"source\":{\"id\":\"362ce0f1-d481-4561-bae0-46301dcad6ae\",\"type\":\"ColumnDataSource\"}},\"id\":\"66653ed6-9e10-4bb1-b662-0074d036733f\",\"type\":\"CDSView\"},{\"attributes\":{\"data_source\":{\"id\":\"40c38ceb-4c4d-4066-8f46-97e43dc7412a\",\"type\":\"ColumnDataSource\"},\"glyph\":{\"id\":\"b22ab754-151b-4d3e-8c0b-f576f00ce623\",\"type\":\"Line\"},\"hover_glyph\":null,\"muted_glyph\":null,\"nonselection_glyph\":{\"id\":\"a3dd1474-b2a4-4f0a-9ceb-e4306f7d5fd7\",\"type\":\"Line\"},\"selection_glyph\":null,\"view\":{\"id\":\"e2159a14-3c00-46a0-b5cb-614eafbd24c2\",\"type\":\"CDSView\"}},\"id\":\"8910b554-f418-41f5-8a3c-6d1f6bf775af\",\"type\":\"GlyphRenderer\"},{\"attributes\":{},\"id\":\"e1135c88-dcb7-4147-ac95-0e9e728a5f07\",\"type\":\"LinearScale\"},{\"attributes\":{\"line_color\":\"orange\",\"line_dash\":[5,2],\"line_width\":2,\"x\":{\"field\":\"x\"},\"y\":{\"field\":\"y\"}},\"id\":\"c6279135-0462-489d-89ae-a2a4a453fcb3\",\"type\":\"Line\"},{\"attributes\":{\"active_drag\":\"auto\",\"active_inspect\":\"auto\",\"active_scroll\":\"auto\",\"active_tap\":\"auto\",\"tools\":[{\"id\":\"572d015d-b666-446a-bf6a-cffa911d80da\",\"type\":\"PanTool\"},{\"id\":\"9306bae8-f2d1-45ea-a42a-583da16f97c9\",\"type\":\"WheelZoomTool\"},{\"id\":\"b823380e-f128-49b8-ac7c-29b6da7bf5c4\",\"type\":\"BoxZoomTool\"},{\"id\":\"594c7c43-89c2-426a-98d2-acd5088edf7b\",\"type\":\"SaveTool\"},{\"id\":\"74db7614-1003-48ad-b859-6a0508e2ea59\",\"type\":\"ResetTool\"},{\"id\":\"3c1a3356-3e82-490a-bbed-224399ab678f\",\"type\":\"HelpTool\"}]},\"id\":\"7c65e1d8-c06b-492b-9db9-36a4db443dd7\",\"type\":\"Toolbar\"},{\"attributes\":{\"line_color\":\"#1f77b4\",\"x\":{\"field\":\"x\"},\"y\":{\"field\":\"y\"}},\"id\":\"b22ab754-151b-4d3e-8c0b-f576f00ce623\",\"type\":\"Line\"},{\"attributes\":{},\"id\":\"9a738c7a-4d9c-43fb-a305-2624e115b798\",\"type\":\"BasicTickFormatter\"},{\"attributes\":{\"line_alpha\":0.1,\"line_color\":\"#1f77b4\",\"x\":{\"field\":\"x\"},\"y\":{\"field\":\"y\"}},\"id\":\"fff6056c-3de7-43ee-bc6b-5808871cd708\",\"type\":\"Line\"},{\"attributes\":{\"plot\":{\"id\":\"d80f1205-1b9a-4a50-93a2-d1a0b2278a2f\",\"subtype\":\"Figure\",\"type\":\"Plot\"},\"ticker\":{\"id\":\"f08f85b2-fb09-4f9d-8a08-cb11dbac538b\",\"type\":\"BasicTicker\"}},\"id\":\"36777578-4cf1-4186-9282-755be5767c3c\",\"type\":\"Grid\"},{\"attributes\":{\"data_source\":{\"id\":\"d5ae5ec0-9153-43a3-99f2-f0f87fb5e544\",\"type\":\"ColumnDataSource\"},\"glyph\":{\"id\":\"c6279135-0462-489d-89ae-a2a4a453fcb3\",\"type\":\"Line\"},\"hover_glyph\":null,\"muted_glyph\":null,\"nonselection_glyph\":{\"id\":\"f058d3b5-b4ec-4b1b-bf60-5697e25f447a\",\"type\":\"Line\"},\"selection_glyph\":null,\"view\":{\"id\":\"adbcf779-49c0-4f68-b823-c7278ccee19e\",\"type\":\"CDSView\"}},\"id\":\"67dc62f7-7362-4086-85a5-b18b184d7d3d\",\"type\":\"GlyphRenderer\"},{\"attributes\":{\"line_alpha\":0.1,\"line_color\":\"#1f77b4\",\"line_dash\":[5,2],\"line_width\":2,\"x\":{\"field\":\"x\"},\"y\":{\"field\":\"y\"}},\"id\":\"ed1f5d03-78c6-4b2f-9cdd-db3d7718b59e\",\"type\":\"Line\"},{\"attributes\":{\"data_source\":{\"id\":\"34fb9266-8d7a-49af-95f0-be41c78ceb31\",\"type\":\"ColumnDataSource\"},\"glyph\":{\"id\":\"c4097415-95d0-4469-9255-f1184af2a482\",\"type\":\"Line\"},\"hover_glyph\":null,\"muted_glyph\":null,\"nonselection_glyph\":{\"id\":\"fff6056c-3de7-43ee-bc6b-5808871cd708\",\"type\":\"Line\"},\"selection_glyph\":null,\"view\":{\"id\":\"b8b02f6e-2cb8-45af-b24f-054fdf2d3e83\",\"type\":\"CDSView\"}},\"id\":\"012f2172-b964-40bf-9a3d-d31573afa8b8\",\"type\":\"GlyphRenderer\"},{\"attributes\":{\"overlay\":{\"id\":\"7e6dc352-da2d-4e4b-99dd-b66187c66015\",\"type\":\"BoxAnnotation\"}},\"id\":\"b823380e-f128-49b8-ac7c-29b6da7bf5c4\",\"type\":\"BoxZoomTool\"},{\"attributes\":{},\"id\":\"9306bae8-f2d1-45ea-a42a-583da16f97c9\",\"type\":\"WheelZoomTool\"},{\"attributes\":{\"line_alpha\":0.1,\"line_color\":\"#1f77b4\",\"line_dash\":[5,2],\"line_width\":2,\"x\":{\"field\":\"x\"},\"y\":{\"field\":\"y\"}},\"id\":\"f058d3b5-b4ec-4b1b-bf60-5697e25f447a\",\"type\":\"Line\"},{\"attributes\":{\"source\":{\"id\":\"40c38ceb-4c4d-4066-8f46-97e43dc7412a\",\"type\":\"ColumnDataSource\"}},\"id\":\"e2159a14-3c00-46a0-b5cb-614eafbd24c2\",\"type\":\"CDSView\"},{\"attributes\":{\"line_alpha\":0.1,\"line_color\":\"#1f77b4\",\"x\":{\"field\":\"x\"},\"y\":{\"field\":\"y\"}},\"id\":\"a3dd1474-b2a4-4f0a-9ceb-e4306f7d5fd7\",\"type\":\"Line\"},{\"attributes\":{\"plot\":null,\"text\":\"\"},\"id\":\"b741b3af-afe1-4d28-af8b-a8dc16aa7623\",\"type\":\"Title\"},{\"attributes\":{\"callback\":null,\"column_names\":[\"x\",\"y\"],\"data\":{\"x\":{\"__ndarray__\":\"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\",\"dtype\":\"float64\",\"shape\":[501]},\"y\":{\"__ndarray__\":\"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\",\"dtype\":\"float64\",\"shape\":[501]}},\"selected\":null,\"selection_policy\":null},\"id\":\"362ce0f1-d481-4561-bae0-46301dcad6ae\",\"type\":\"ColumnDataSource\"},{\"attributes\":{},\"id\":\"74db7614-1003-48ad-b859-6a0508e2ea59\",\"type\":\"ResetTool\"},{\"attributes\":{},\"id\":\"2492ad91-ea5f-4186-8ec8-8e2cac731a8d\",\"type\":\"LinearScale\"},{\"attributes\":{},\"id\":\"594c7c43-89c2-426a-98d2-acd5088edf7b\",\"type\":\"SaveTool\"},{\"attributes\":{\"axis_label\":\"Percentile\",\"axis_label_text_font_size\":{\"value\":\"1em\"},\"bounds\":[0,105],\"formatter\":{\"id\":\"4c54ee6c-d5a8-4a0c-94fc-19c52f3156d6\",\"type\":\"BasicTickFormatter\"},\"major_label_text_font_size\":{\"value\":\"1em\"},\"plot\":{\"id\":\"d80f1205-1b9a-4a50-93a2-d1a0b2278a2f\",\"subtype\":\"Figure\",\"type\":\"Plot\"},\"ticker\":{\"id\":\"5d5b3c7d-42e7-4515-8e16-b73f528c2823\",\"type\":\"BasicTicker\"}},\"id\":\"8b07bd4c-e5a1-41ad-8f77-7949abea5f38\",\"type\":\"LinearAxis\"},{\"attributes\":{},\"id\":\"5d5b3c7d-42e7-4515-8e16-b73f528c2823\",\"type\":\"BasicTicker\"},{\"attributes\":{\"below\":[{\"id\":\"8b2838ca-723c-46b0-b045-7730912d0a4b\",\"type\":\"LinearAxis\"}],\"left\":[{\"id\":\"8b07bd4c-e5a1-41ad-8f77-7949abea5f38\",\"type\":\"LinearAxis\"}],\"renderers\":[{\"id\":\"8b2838ca-723c-46b0-b045-7730912d0a4b\",\"type\":\"LinearAxis\"},{\"id\":\"36777578-4cf1-4186-9282-755be5767c3c\",\"type\":\"Grid\"},{\"id\":\"8b07bd4c-e5a1-41ad-8f77-7949abea5f38\",\"type\":\"LinearAxis\"},{\"id\":\"18583dbe-4477-4d20-9acd-5c044da652e3\",\"type\":\"Grid\"},{\"id\":\"7e6dc352-da2d-4e4b-99dd-b66187c66015\",\"type\":\"BoxAnnotation\"},{\"id\":\"96577d2f-cfa6-4c8d-836e-b53ca1ed1c89\",\"type\":\"Legend\"},{\"id\":\"8910b554-f418-41f5-8a3c-6d1f6bf775af\",\"type\":\"GlyphRenderer\"},{\"id\":\"7499bb0e-f23d-47d8-a9b6-3e68bf92812e\",\"type\":\"GlyphRenderer\"},{\"id\":\"012f2172-b964-40bf-9a3d-d31573afa8b8\",\"type\":\"GlyphRenderer\"},{\"id\":\"67dc62f7-7362-4086-85a5-b18b184d7d3d\",\"type\":\"GlyphRenderer\"}],\"title\":{\"id\":\"b741b3af-afe1-4d28-af8b-a8dc16aa7623\",\"type\":\"Title\"},\"toolbar\":{\"id\":\"7c65e1d8-c06b-492b-9db9-36a4db443dd7\",\"type\":\"Toolbar\"},\"x_range\":{\"id\":\"147e725b-c880-4f50-b41f-183bd8df5723\",\"type\":\"DataRange1d\"},\"x_scale\":{\"id\":\"2492ad91-ea5f-4186-8ec8-8e2cac731a8d\",\"type\":\"LinearScale\"},\"y_range\":{\"id\":\"c439c966-1112-490c-862b-51dff146700e\",\"type\":\"DataRange1d\"},\"y_scale\":{\"id\":\"e1135c88-dcb7-4147-ac95-0e9e728a5f07\",\"type\":\"LinearScale\"}},\"id\":\"d80f1205-1b9a-4a50-93a2-d1a0b2278a2f\",\"subtype\":\"Figure\",\"type\":\"Plot\"},{\"attributes\":{},\"id\":\"f08f85b2-fb09-4f9d-8a08-cb11dbac538b\",\"type\":\"BasicTicker\"},{\"attributes\":{\"callback\":null},\"id\":\"147e725b-c880-4f50-b41f-183bd8df5723\",\"type\":\"DataRange1d\"},{\"attributes\":{\"bottom_units\":\"screen\",\"fill_alpha\":{\"value\":0.5},\"fill_color\":{\"value\":\"lightgrey\"},\"left_units\":\"screen\",\"level\":\"overlay\",\"line_alpha\":{\"value\":1.0},\"line_color\":{\"value\":\"black\"},\"line_dash\":[4,4],\"line_width\":{\"value\":2},\"plot\":null,\"render_mode\":\"css\",\"right_units\":\"screen\",\"top_units\":\"screen\"},\"id\":\"7e6dc352-da2d-4e4b-99dd-b66187c66015\",\"type\":\"BoxAnnotation\"}],\"root_ids\":[\"d80f1205-1b9a-4a50-93a2-d1a0b2278a2f\"]},\"title\":\"Bokeh Application\",\"version\":\"0.12.15\"}};\n",
       "  var render_items = [{\"docid\":\"df24a5f5-1966-4ac8-81d4-b377b4d53818\",\"elementid\":\"741434ea-8493-457c-9796-b71975df4351\",\"modelid\":\"d80f1205-1b9a-4a50-93a2-d1a0b2278a2f\"}];\n",
       "  root.Bokeh.embed.embed_items_notebook(docs_json, render_items);\n",
       "\n",
       "  }\n",
       "  if (root.Bokeh !== undefined) {\n",
       "    embed_document(root);\n",
       "  } else {\n",
       "    var attempts = 0;\n",
       "    var timer = setInterval(function(root) {\n",
       "      if (root.Bokeh !== undefined) {\n",
       "        embed_document(root);\n",
       "        clearInterval(timer);\n",
       "      }\n",
       "      attempts++;\n",
       "      if (attempts > 100) {\n",
       "        console.log(\"Bokeh: ERROR: Unable to run BokehJS code because BokehJS library is missing\")\n",
       "        clearInterval(timer);\n",
       "      }\n",
       "    }, 10, root)\n",
       "  }\n",
       "})(window);"
      ],
      "application/vnd.bokehjs_exec.v0+json": ""
     },
     "metadata": {
      "application/vnd.bokehjs_exec.v0+json": {
       "id": "d80f1205-1b9a-4a50-93a2-d1a0b2278a2f"
      }
     },
     "output_type": "display_data"
    }
   ],
   "source": [
    "plot = bokeh.plotting.figure()\n",
    "plot.line(*dvh(y_full[0]), legend='full')\n",
    "plot.line(*dvh(y_vclu[0]), line_dash=[5,2], line_width=2, legend='clustered')\n",
    "plot.line(*dvh(y_full[1]), color='orange')\n",
    "plot.line(*dvh(y_vclu[1]), color='orange', line_dash=[5,2], line_width=2)\n",
    "# plot.line([66,66], [0, 95], line_dash=[2,3])\n",
    "# plot.line([0,66], [95,95], color='gray', line_dash=[2,3])\n",
    "# plot.line([60,60], [0, 95], color='orange', line_dash=[2,3])\n",
    "plot.xaxis.axis_label = 'Dose (Gy)'\n",
    "plot.yaxis.axis_label = 'Percentile'\n",
    "plot.xaxis.axis_label_text_font_size = '1em'\n",
    "plot.yaxis.axis_label_text_font_size = '1em'\n",
    "plot.xaxis.major_label_text_font_size = '1em'\n",
    "plot.yaxis.major_label_text_font_size = '1em'\n",
    "plot.legend.label_text_font_size = '1em'\n",
    "plot.legend.location = 'bottom_left'\n",
    "plot.yaxis.bounds = [0,105]\n",
    "bokeh.plotting.show(plot)"
   ]
  },
  {
   "cell_type": "code",
   "execution_count": null,
   "metadata": {},
   "outputs": [],
   "source": []
  }
 ],
 "metadata": {
  "kernelspec": {
   "display_name": "Python 2",
   "language": "python",
   "name": "python2"
  },
  "language_info": {
   "codemirror_mode": {
    "name": "ipython",
    "version": 2
   },
   "file_extension": ".py",
   "mimetype": "text/x-python",
   "name": "python",
   "nbconvert_exporter": "python",
   "pygments_lexer": "ipython2",
   "version": "2.7.13"
  }
 },
 "nbformat": 4,
 "nbformat_minor": 1
}
