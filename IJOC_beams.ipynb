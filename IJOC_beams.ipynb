{
 "cells": [
  {
   "cell_type": "code",
   "execution_count": 1,
   "metadata": {},
   "outputs": [
    {
     "name": "stdout",
     "output_type": "stream",
     "text": [
      "optkit backend set to cpu64\n",
      "Libraries for configuration gpu32 not found. Trying next configuration.\n",
      "Libraries for configuration gpu64 not found. Trying next configuration.\n",
      "Libraries for configuration cpu32 not found. Trying next configuration.\n",
      "optkit backend set to cpu64\n"
     ]
    },
    {
     "data": {
      "text/plain": [
       "1"
      ]
     },
     "execution_count": 1,
     "metadata": {},
     "output_type": "execute_result"
    }
   ],
   "source": [
    "import optkit as ok\n",
    "import numpy as np\n",
    "ok.set_backend(gpu=True, double=False)"
   ]
  },
  {
   "cell_type": "code",
   "execution_count": 2,
   "metadata": {},
   "outputs": [],
   "source": [
    "import radopt as ro\n",
    "import IJOC_analyses\n",
    "from IPython.display import display, Math, Markdown\n",
    "import bokeh, bokeh.plotting, bokeh.io"
   ]
  },
  {
   "cell_type": "code",
   "execution_count": 3,
   "metadata": {},
   "outputs": [
    {
     "data": {
      "text/html": [
       "\n",
       "    <div class=\"bk-root\">\n",
       "        <a href=\"https://bokeh.pydata.org\" target=\"_blank\" class=\"bk-logo bk-logo-small bk-logo-notebook\"></a>\n",
       "        <span id=\"f60a7921-d784-43d9-a86c-45b07f0cd84d\">Loading BokehJS ...</span>\n",
       "    </div>"
      ]
     },
     "metadata": {},
     "output_type": "display_data"
    },
    {
     "data": {
      "application/javascript": [
       "\n",
       "(function(root) {\n",
       "  function now() {\n",
       "    return new Date();\n",
       "  }\n",
       "\n",
       "  var force = true;\n",
       "\n",
       "  if (typeof (root._bokeh_onload_callbacks) === \"undefined\" || force === true) {\n",
       "    root._bokeh_onload_callbacks = [];\n",
       "    root._bokeh_is_loading = undefined;\n",
       "  }\n",
       "\n",
       "  var JS_MIME_TYPE = 'application/javascript';\n",
       "  var HTML_MIME_TYPE = 'text/html';\n",
       "  var EXEC_MIME_TYPE = 'application/vnd.bokehjs_exec.v0+json';\n",
       "  var CLASS_NAME = 'output_bokeh rendered_html';\n",
       "\n",
       "  /**\n",
       "   * Render data to the DOM node\n",
       "   */\n",
       "  function render(props, node) {\n",
       "    var script = document.createElement(\"script\");\n",
       "    node.appendChild(script);\n",
       "  }\n",
       "\n",
       "  /**\n",
       "   * Handle when an output is cleared or removed\n",
       "   */\n",
       "  function handleClearOutput(event, handle) {\n",
       "    var cell = handle.cell;\n",
       "\n",
       "    var id = cell.output_area._bokeh_element_id;\n",
       "    var server_id = cell.output_area._bokeh_server_id;\n",
       "    // Clean up Bokeh references\n",
       "    if (id !== undefined) {\n",
       "      Bokeh.index[id].model.document.clear();\n",
       "      delete Bokeh.index[id];\n",
       "    }\n",
       "\n",
       "    if (server_id !== undefined) {\n",
       "      // Clean up Bokeh references\n",
       "      var cmd = \"from bokeh.io.state import curstate; print(curstate().uuid_to_server['\" + server_id + \"'].get_sessions()[0].document.roots[0]._id)\";\n",
       "      cell.notebook.kernel.execute(cmd, {\n",
       "        iopub: {\n",
       "          output: function(msg) {\n",
       "            var element_id = msg.content.text.trim();\n",
       "            Bokeh.index[element_id].model.document.clear();\n",
       "            delete Bokeh.index[element_id];\n",
       "          }\n",
       "        }\n",
       "      });\n",
       "      // Destroy server and session\n",
       "      var cmd = \"import bokeh.io.notebook as ion; ion.destroy_server('\" + server_id + \"')\";\n",
       "      cell.notebook.kernel.execute(cmd);\n",
       "    }\n",
       "  }\n",
       "\n",
       "  /**\n",
       "   * Handle when a new output is added\n",
       "   */\n",
       "  function handleAddOutput(event, handle) {\n",
       "    var output_area = handle.output_area;\n",
       "    var output = handle.output;\n",
       "\n",
       "    // limit handleAddOutput to display_data with EXEC_MIME_TYPE content only\n",
       "    if ((output.output_type != \"display_data\") || (!output.data.hasOwnProperty(EXEC_MIME_TYPE))) {\n",
       "      return\n",
       "    }\n",
       "\n",
       "    var toinsert = output_area.element.find(\".\" + CLASS_NAME.split(' ')[0]);\n",
       "\n",
       "    if (output.metadata[EXEC_MIME_TYPE][\"id\"] !== undefined) {\n",
       "      toinsert[toinsert.length - 1].firstChild.textContent = output.data[JS_MIME_TYPE];\n",
       "      // store reference to embed id on output_area\n",
       "      output_area._bokeh_element_id = output.metadata[EXEC_MIME_TYPE][\"id\"];\n",
       "    }\n",
       "    if (output.metadata[EXEC_MIME_TYPE][\"server_id\"] !== undefined) {\n",
       "      var bk_div = document.createElement(\"div\");\n",
       "      bk_div.innerHTML = output.data[HTML_MIME_TYPE];\n",
       "      var script_attrs = bk_div.children[0].attributes;\n",
       "      for (var i = 0; i < script_attrs.length; i++) {\n",
       "        toinsert[toinsert.length - 1].firstChild.setAttribute(script_attrs[i].name, script_attrs[i].value);\n",
       "      }\n",
       "      // store reference to server id on output_area\n",
       "      output_area._bokeh_server_id = output.metadata[EXEC_MIME_TYPE][\"server_id\"];\n",
       "    }\n",
       "  }\n",
       "\n",
       "  function register_renderer(events, OutputArea) {\n",
       "\n",
       "    function append_mime(data, metadata, element) {\n",
       "      // create a DOM node to render to\n",
       "      var toinsert = this.create_output_subarea(\n",
       "        metadata,\n",
       "        CLASS_NAME,\n",
       "        EXEC_MIME_TYPE\n",
       "      );\n",
       "      this.keyboard_manager.register_events(toinsert);\n",
       "      // Render to node\n",
       "      var props = {data: data, metadata: metadata[EXEC_MIME_TYPE]};\n",
       "      render(props, toinsert[toinsert.length - 1]);\n",
       "      element.append(toinsert);\n",
       "      return toinsert\n",
       "    }\n",
       "\n",
       "    /* Handle when an output is cleared or removed */\n",
       "    events.on('clear_output.CodeCell', handleClearOutput);\n",
       "    events.on('delete.Cell', handleClearOutput);\n",
       "\n",
       "    /* Handle when a new output is added */\n",
       "    events.on('output_added.OutputArea', handleAddOutput);\n",
       "\n",
       "    /**\n",
       "     * Register the mime type and append_mime function with output_area\n",
       "     */\n",
       "    OutputArea.prototype.register_mime_type(EXEC_MIME_TYPE, append_mime, {\n",
       "      /* Is output safe? */\n",
       "      safe: true,\n",
       "      /* Index of renderer in `output_area.display_order` */\n",
       "      index: 0\n",
       "    });\n",
       "  }\n",
       "\n",
       "  // register the mime type if in Jupyter Notebook environment and previously unregistered\n",
       "  if (root.Jupyter !== undefined) {\n",
       "    var events = require('base/js/events');\n",
       "    var OutputArea = require('notebook/js/outputarea').OutputArea;\n",
       "\n",
       "    if (OutputArea.prototype.mime_types().indexOf(EXEC_MIME_TYPE) == -1) {\n",
       "      register_renderer(events, OutputArea);\n",
       "    }\n",
       "  }\n",
       "\n",
       "  \n",
       "  if (typeof (root._bokeh_timeout) === \"undefined\" || force === true) {\n",
       "    root._bokeh_timeout = Date.now() + 5000;\n",
       "    root._bokeh_failed_load = false;\n",
       "  }\n",
       "\n",
       "  var NB_LOAD_WARNING = {'data': {'text/html':\n",
       "     \"<div style='background-color: #fdd'>\\n\"+\n",
       "     \"<p>\\n\"+\n",
       "     \"BokehJS does not appear to have successfully loaded. If loading BokehJS from CDN, this \\n\"+\n",
       "     \"may be due to a slow or bad network connection. Possible fixes:\\n\"+\n",
       "     \"</p>\\n\"+\n",
       "     \"<ul>\\n\"+\n",
       "     \"<li>re-rerun `output_notebook()` to attempt to load from CDN again, or</li>\\n\"+\n",
       "     \"<li>use INLINE resources instead, as so:</li>\\n\"+\n",
       "     \"</ul>\\n\"+\n",
       "     \"<code>\\n\"+\n",
       "     \"from bokeh.resources import INLINE\\n\"+\n",
       "     \"output_notebook(resources=INLINE)\\n\"+\n",
       "     \"</code>\\n\"+\n",
       "     \"</div>\"}};\n",
       "\n",
       "  function display_loaded() {\n",
       "    var el = document.getElementById(\"f60a7921-d784-43d9-a86c-45b07f0cd84d\");\n",
       "    if (el != null) {\n",
       "      el.textContent = \"BokehJS is loading...\";\n",
       "    }\n",
       "    if (root.Bokeh !== undefined) {\n",
       "      if (el != null) {\n",
       "        el.textContent = \"BokehJS \" + root.Bokeh.version + \" successfully loaded.\";\n",
       "      }\n",
       "    } else if (Date.now() < root._bokeh_timeout) {\n",
       "      setTimeout(display_loaded, 100)\n",
       "    }\n",
       "  }\n",
       "\n",
       "\n",
       "  function run_callbacks() {\n",
       "    try {\n",
       "      root._bokeh_onload_callbacks.forEach(function(callback) { callback() });\n",
       "    }\n",
       "    finally {\n",
       "      delete root._bokeh_onload_callbacks\n",
       "    }\n",
       "    console.info(\"Bokeh: all callbacks have finished\");\n",
       "  }\n",
       "\n",
       "  function load_libs(js_urls, callback) {\n",
       "    root._bokeh_onload_callbacks.push(callback);\n",
       "    if (root._bokeh_is_loading > 0) {\n",
       "      console.log(\"Bokeh: BokehJS is being loaded, scheduling callback at\", now());\n",
       "      return null;\n",
       "    }\n",
       "    if (js_urls == null || js_urls.length === 0) {\n",
       "      run_callbacks();\n",
       "      return null;\n",
       "    }\n",
       "    console.log(\"Bokeh: BokehJS not loaded, scheduling load and callback at\", now());\n",
       "    root._bokeh_is_loading = js_urls.length;\n",
       "    for (var i = 0; i < js_urls.length; i++) {\n",
       "      var url = js_urls[i];\n",
       "      var s = document.createElement('script');\n",
       "      s.src = url;\n",
       "      s.async = false;\n",
       "      s.onreadystatechange = s.onload = function() {\n",
       "        root._bokeh_is_loading--;\n",
       "        if (root._bokeh_is_loading === 0) {\n",
       "          console.log(\"Bokeh: all BokehJS libraries loaded\");\n",
       "          run_callbacks()\n",
       "        }\n",
       "      };\n",
       "      s.onerror = function() {\n",
       "        console.warn(\"failed to load library \" + url);\n",
       "      };\n",
       "      console.log(\"Bokeh: injecting script tag for BokehJS library: \", url);\n",
       "      document.getElementsByTagName(\"head\")[0].appendChild(s);\n",
       "    }\n",
       "  };var element = document.getElementById(\"f60a7921-d784-43d9-a86c-45b07f0cd84d\");\n",
       "  if (element == null) {\n",
       "    console.log(\"Bokeh: ERROR: autoload.js configured with elementid 'f60a7921-d784-43d9-a86c-45b07f0cd84d' but no matching script tag was found. \")\n",
       "    return false;\n",
       "  }\n",
       "\n",
       "  var js_urls = [\"https://cdn.pydata.org/bokeh/release/bokeh-0.12.15.min.js\", \"https://cdn.pydata.org/bokeh/release/bokeh-widgets-0.12.15.min.js\", \"https://cdn.pydata.org/bokeh/release/bokeh-tables-0.12.15.min.js\", \"https://cdn.pydata.org/bokeh/release/bokeh-gl-0.12.15.min.js\"];\n",
       "\n",
       "  var inline_js = [\n",
       "    function(Bokeh) {\n",
       "      Bokeh.set_log_level(\"info\");\n",
       "    },\n",
       "    \n",
       "    function(Bokeh) {\n",
       "      \n",
       "    },\n",
       "    function(Bokeh) {\n",
       "      console.log(\"Bokeh: injecting CSS: https://cdn.pydata.org/bokeh/release/bokeh-0.12.15.min.css\");\n",
       "      Bokeh.embed.inject_css(\"https://cdn.pydata.org/bokeh/release/bokeh-0.12.15.min.css\");\n",
       "      console.log(\"Bokeh: injecting CSS: https://cdn.pydata.org/bokeh/release/bokeh-widgets-0.12.15.min.css\");\n",
       "      Bokeh.embed.inject_css(\"https://cdn.pydata.org/bokeh/release/bokeh-widgets-0.12.15.min.css\");\n",
       "      console.log(\"Bokeh: injecting CSS: https://cdn.pydata.org/bokeh/release/bokeh-tables-0.12.15.min.css\");\n",
       "      Bokeh.embed.inject_css(\"https://cdn.pydata.org/bokeh/release/bokeh-tables-0.12.15.min.css\");\n",
       "    }\n",
       "  ];\n",
       "\n",
       "  function run_inline_js() {\n",
       "    \n",
       "    if ((root.Bokeh !== undefined) || (force === true)) {\n",
       "      for (var i = 0; i < inline_js.length; i++) {\n",
       "        inline_js[i].call(root, root.Bokeh);\n",
       "      }if (force === true) {\n",
       "        display_loaded();\n",
       "      }} else if (Date.now() < root._bokeh_timeout) {\n",
       "      setTimeout(run_inline_js, 100);\n",
       "    } else if (!root._bokeh_failed_load) {\n",
       "      console.log(\"Bokeh: BokehJS failed to load within specified timeout.\");\n",
       "      root._bokeh_failed_load = true;\n",
       "    } else if (force !== true) {\n",
       "      var cell = $(document.getElementById(\"f60a7921-d784-43d9-a86c-45b07f0cd84d\")).parents('.cell').data().cell;\n",
       "      cell.output_area.append_execute_result(NB_LOAD_WARNING)\n",
       "    }\n",
       "\n",
       "  }\n",
       "\n",
       "  if (root._bokeh_is_loading === 0) {\n",
       "    console.log(\"Bokeh: BokehJS loaded, going straight to plotting\");\n",
       "    run_inline_js();\n",
       "  } else {\n",
       "    load_libs(js_urls, function() {\n",
       "      console.log(\"Bokeh: BokehJS plotting callback run at\", now());\n",
       "      run_inline_js();\n",
       "    });\n",
       "  }\n",
       "}(window));"
      ],
      "application/vnd.bokehjs_load.v0+json": "\n(function(root) {\n  function now() {\n    return new Date();\n  }\n\n  var force = true;\n\n  if (typeof (root._bokeh_onload_callbacks) === \"undefined\" || force === true) {\n    root._bokeh_onload_callbacks = [];\n    root._bokeh_is_loading = undefined;\n  }\n\n  \n\n  \n  if (typeof (root._bokeh_timeout) === \"undefined\" || force === true) {\n    root._bokeh_timeout = Date.now() + 5000;\n    root._bokeh_failed_load = false;\n  }\n\n  var NB_LOAD_WARNING = {'data': {'text/html':\n     \"<div style='background-color: #fdd'>\\n\"+\n     \"<p>\\n\"+\n     \"BokehJS does not appear to have successfully loaded. If loading BokehJS from CDN, this \\n\"+\n     \"may be due to a slow or bad network connection. Possible fixes:\\n\"+\n     \"</p>\\n\"+\n     \"<ul>\\n\"+\n     \"<li>re-rerun `output_notebook()` to attempt to load from CDN again, or</li>\\n\"+\n     \"<li>use INLINE resources instead, as so:</li>\\n\"+\n     \"</ul>\\n\"+\n     \"<code>\\n\"+\n     \"from bokeh.resources import INLINE\\n\"+\n     \"output_notebook(resources=INLINE)\\n\"+\n     \"</code>\\n\"+\n     \"</div>\"}};\n\n  function display_loaded() {\n    var el = document.getElementById(\"f60a7921-d784-43d9-a86c-45b07f0cd84d\");\n    if (el != null) {\n      el.textContent = \"BokehJS is loading...\";\n    }\n    if (root.Bokeh !== undefined) {\n      if (el != null) {\n        el.textContent = \"BokehJS \" + root.Bokeh.version + \" successfully loaded.\";\n      }\n    } else if (Date.now() < root._bokeh_timeout) {\n      setTimeout(display_loaded, 100)\n    }\n  }\n\n\n  function run_callbacks() {\n    try {\n      root._bokeh_onload_callbacks.forEach(function(callback) { callback() });\n    }\n    finally {\n      delete root._bokeh_onload_callbacks\n    }\n    console.info(\"Bokeh: all callbacks have finished\");\n  }\n\n  function load_libs(js_urls, callback) {\n    root._bokeh_onload_callbacks.push(callback);\n    if (root._bokeh_is_loading > 0) {\n      console.log(\"Bokeh: BokehJS is being loaded, scheduling callback at\", now());\n      return null;\n    }\n    if (js_urls == null || js_urls.length === 0) {\n      run_callbacks();\n      return null;\n    }\n    console.log(\"Bokeh: BokehJS not loaded, scheduling load and callback at\", now());\n    root._bokeh_is_loading = js_urls.length;\n    for (var i = 0; i < js_urls.length; i++) {\n      var url = js_urls[i];\n      var s = document.createElement('script');\n      s.src = url;\n      s.async = false;\n      s.onreadystatechange = s.onload = function() {\n        root._bokeh_is_loading--;\n        if (root._bokeh_is_loading === 0) {\n          console.log(\"Bokeh: all BokehJS libraries loaded\");\n          run_callbacks()\n        }\n      };\n      s.onerror = function() {\n        console.warn(\"failed to load library \" + url);\n      };\n      console.log(\"Bokeh: injecting script tag for BokehJS library: \", url);\n      document.getElementsByTagName(\"head\")[0].appendChild(s);\n    }\n  };var element = document.getElementById(\"f60a7921-d784-43d9-a86c-45b07f0cd84d\");\n  if (element == null) {\n    console.log(\"Bokeh: ERROR: autoload.js configured with elementid 'f60a7921-d784-43d9-a86c-45b07f0cd84d' but no matching script tag was found. \")\n    return false;\n  }\n\n  var js_urls = [\"https://cdn.pydata.org/bokeh/release/bokeh-0.12.15.min.js\", \"https://cdn.pydata.org/bokeh/release/bokeh-widgets-0.12.15.min.js\", \"https://cdn.pydata.org/bokeh/release/bokeh-tables-0.12.15.min.js\", \"https://cdn.pydata.org/bokeh/release/bokeh-gl-0.12.15.min.js\"];\n\n  var inline_js = [\n    function(Bokeh) {\n      Bokeh.set_log_level(\"info\");\n    },\n    \n    function(Bokeh) {\n      \n    },\n    function(Bokeh) {\n      console.log(\"Bokeh: injecting CSS: https://cdn.pydata.org/bokeh/release/bokeh-0.12.15.min.css\");\n      Bokeh.embed.inject_css(\"https://cdn.pydata.org/bokeh/release/bokeh-0.12.15.min.css\");\n      console.log(\"Bokeh: injecting CSS: https://cdn.pydata.org/bokeh/release/bokeh-widgets-0.12.15.min.css\");\n      Bokeh.embed.inject_css(\"https://cdn.pydata.org/bokeh/release/bokeh-widgets-0.12.15.min.css\");\n      console.log(\"Bokeh: injecting CSS: https://cdn.pydata.org/bokeh/release/bokeh-tables-0.12.15.min.css\");\n      Bokeh.embed.inject_css(\"https://cdn.pydata.org/bokeh/release/bokeh-tables-0.12.15.min.css\");\n    }\n  ];\n\n  function run_inline_js() {\n    \n    if ((root.Bokeh !== undefined) || (force === true)) {\n      for (var i = 0; i < inline_js.length; i++) {\n        inline_js[i].call(root, root.Bokeh);\n      }if (force === true) {\n        display_loaded();\n      }} else if (Date.now() < root._bokeh_timeout) {\n      setTimeout(run_inline_js, 100);\n    } else if (!root._bokeh_failed_load) {\n      console.log(\"Bokeh: BokehJS failed to load within specified timeout.\");\n      root._bokeh_failed_load = true;\n    } else if (force !== true) {\n      var cell = $(document.getElementById(\"f60a7921-d784-43d9-a86c-45b07f0cd84d\")).parents('.cell').data().cell;\n      cell.output_area.append_execute_result(NB_LOAD_WARNING)\n    }\n\n  }\n\n  if (root._bokeh_is_loading === 0) {\n    console.log(\"Bokeh: BokehJS loaded, going straight to plotting\");\n    run_inline_js();\n  } else {\n    load_libs(js_urls, function() {\n      console.log(\"Bokeh: BokehJS plotting callback run at\", now());\n      run_inline_js();\n    });\n  }\n}(window));"
     },
     "metadata": {},
     "output_type": "display_data"
    }
   ],
   "source": [
    "bokeh.io.output_notebook()"
   ]
  },
  {
   "cell_type": "markdown",
   "metadata": {},
   "source": [
    "### load dose matrices, clustering maps"
   ]
  },
  {
   "cell_type": "code",
   "execution_count": 4,
   "metadata": {},
   "outputs": [],
   "source": [
    "N_STRUCTURES = 16\n",
    "N_TARGETS = 3 \n",
    "\n",
    "N = N_BEAMS = 500\n",
    "K = N_CLUSTERS = 50\n",
    "M_s = VOX_PER_STRUCTURE = 100\n",
    "M = N_STRUCTURES * M_s"
   ]
  },
  {
   "cell_type": "markdown",
   "metadata": {},
   "source": [
    "replace the next cell with:\n",
    "===============\n",
    "- loading dose matrices\n",
    "- loading beam clustering assignments (if pre-calculated)\n",
    "- loading beam-clustered matrices (if pre-calculated)\n",
    "\n",
    "or, load the dose matrices and\n",
    "- calculate beam clustering assignments (as below)\n",
    "- calculate beam-clustered matrices (as below).\n",
    "\n",
    "------\n",
    "\n",
    "**_In this example,_** we generate random dose matrices\n",
    "$$A_s \\in \\mathbf{R}_+^{m_s \\times n},\\quad s=1,\\ldots,N_s$$\n",
    "for each structure `s`, with the values drawn \n",
    "from a normal distribution and thresholded to be nonnegative.\n",
    "\n",
    "We generate a single cluster assignment matrix,\n",
    "$$V \\in \\mathbf{R}^{k \\times n}$$\n",
    "which we use to form the beam-clustered dose matrices\n",
    "$$A_{\\mathcal{C}s} \\in \\mathbf{R}^{m_s \\times k}$$ \n",
    "such that \n",
    "$$A_s \\approx A_{\\mathcal{C}s}V^T,\\quad s=1,\\ldots,N_s,$$\n",
    "i.e., each structure's full dose matrix is approximated by the\n",
    "its corresponding beam-clustered dose matrix when the columns\n",
    "of the latter are upsampled according to the cluster assignments\n",
    "encoded by `V`."
   ]
  },
  {
   "cell_type": "code",
   "execution_count": 5,
   "metadata": {},
   "outputs": [],
   "source": [
    "stdev = 0.1\n",
    "def meanval(structure_id):\n",
    "    return 1.0 if structure_id == 0 else (0.9 if structure_id < N_TARGETS else 0.1)\n",
    "def random_dosemat(structure_id):\n",
    "    return np.maximum(0, np.random.normal(meanval(structure_id), stdev, (VOX_PER_STRUCTURE, N_BEAMS)))\n",
    "\n",
    "# dose matrices per structure with full # of beams\n",
    "A_s = {k: random_dosemat(k) for k in range(N_STRUCTURES)}\n",
    "\n",
    "# assemble into single matrix\n",
    "A = np.vstack(A_s.values())\n",
    "\n",
    "# run k-means on columns of assembled matrix (in implementation, on rows of transpose)\n",
    "v_guess = np.sort(np.hstack((np.random.permutation(K), np.random.randint(0, K, N-K))))\n",
    "_, v, _ = ok.api.Clustering().kmeans(A.T, K, v_guess)\n",
    "cluster_map = ro.clustering.ClusterMap(N, v.max()+1, v)\n",
    "\n",
    "# apply clustering from k-means to form beam-clustered matrices per structure\n",
    "bclu_matrices = ro.clustering.downsample(cluster_map, A_s, transpose=True)\n",
    "full_matrices = A_s"
   ]
  },
  {
   "cell_type": "markdown",
   "metadata": {},
   "source": [
    "### build structures"
   ]
  },
  {
   "cell_type": "code",
   "execution_count": 6,
   "metadata": {},
   "outputs": [],
   "source": [
    "names = {\n",
    "    0: 'PTV 66Gy',\n",
    "    1: 'PTV R Frontal + Neck 60Gy',\n",
    "    2: 'PTV L Frontal 60Gy',\n",
    "    3: 'Eye L',\n",
    "    4: 'Lens L',\n",
    "    5: 'Brainstem',\n",
    "    6: 'Spinal Canal',\n",
    "    7: 'Submandibular L',\n",
    "    8: 'Cochlea R',\n",
    "    9: 'Larynx',\n",
    "    10: 'Oral Cavity',\n",
    "    11: 'Brain',\n",
    "    12: 'Optic Nerve L',\n",
    "    13: 'Optic Chiasm',\n",
    "    14: 'Cord',\n",
    "    15: 'Body',\n",
    "}\n",
    "target_ids = list(range(N_TARGETS))\n",
    "OAR_ids = list(range(N_TARGETS, N_STRUCTURES)) \n",
    "structure_order = target_ids + OAR_ids"
   ]
  },
  {
   "cell_type": "code",
   "execution_count": 7,
   "metadata": {},
   "outputs": [],
   "source": [
    "sizes = {s: full_matrices[s].shape[0] for s in structure_order}  \n",
    "\n",
    "structures = {\n",
    "        sid: ro.structure.Target(names[sid], sizes[sid]) \n",
    "        for sid in target_ids}    \n",
    "\n",
    "structures.update({\n",
    "        sid: ro.structure.OAR(names[sid], sizes[sid]) \n",
    "        for sid in OAR_ids})"
   ]
  },
  {
   "cell_type": "code",
   "execution_count": 8,
   "metadata": {},
   "outputs": [],
   "source": [
    "structures[0].objective.parameters['dose'] = 66.\n",
    "structures[1].objective.parameters['dose'] = 60.\n",
    "structures[2].objective.parameters['dose'] = 60."
   ]
  },
  {
   "cell_type": "markdown",
   "metadata": {},
   "source": [
    "### build clinical constraints"
   ]
  },
  {
   "cell_type": "code",
   "execution_count": 9,
   "metadata": {},
   "outputs": [],
   "source": [
    "constraints = dict()\n",
    "constraints['PTV 66Gy'] = (ro.constraint.D(95) > 66,)\n",
    "constraints['PTV R Frontal + Neck 60Gy'] = (ro.constraint.D(95) > 60,)\n",
    "constraints['PTV L Frontal 60Gy'] = (ro.constraint.D(95) > 60,)\n",
    "#### These constraints used for experiments; unlikely to hold with random dose matrices & clusters\n",
    "# constraints['Cord'] = (ro.constraint.D(1) < 50,) \n",
    "# constraints['Brainstem'] = (ro.constraint.D(1) < 54,)\n",
    "# constraints['Optic Nerve L'] = (ro.constraint.D(1) < 54,)\n",
    "# constraints['Optic Chiasm'] = (ro.constraint.D(1) < 55,)\n",
    "# constraints['Spinal Canal'] = (ro.constraint.D(1) < 50,)\n",
    "# # constraints['Parotid L'] = (ro.constraint.D('mean') < 20,)\n",
    "# constraints['Larynx'] = (ro.constraint.D('mean') < 44, ro.constraint.D(27) < 55)\n",
    "# constraints['Cochlea R'] = (ro.constraint.D('mean') < 45,)\n"
   ]
  },
  {
   "cell_type": "markdown",
   "metadata": {},
   "source": [
    "### build clustered problem"
   ]
  },
  {
   "cell_type": "code",
   "execution_count": 10,
   "metadata": {},
   "outputs": [],
   "source": [
    "problem = ro.compression.BeamClusteredProblem(\n",
    "    structures=structures,\n",
    "    A_full=full_matrices,\n",
    "    A_bclu=bclu_matrices,\n",
    "    cluster_map=cluster_map)\n",
    "# problem.structures.update(structures)\n",
    "# problem.A_full.update(full_matrices)\n",
    "# problem.A_bclu.update(bclu_matrices)\n",
    "# problem.cluster_map = cluster_map\n",
    "problem.set_key_order(structure_order)\n",
    "constraints = problem.rekey_dictionary_by_ids(constraints)"
   ]
  },
  {
   "cell_type": "markdown",
   "metadata": {},
   "source": [
    "### build full problem"
   ]
  },
  {
   "cell_type": "code",
   "execution_count": 11,
   "metadata": {},
   "outputs": [],
   "source": [
    "full_problem = problem.full_problem()"
   ]
  },
  {
   "cell_type": "markdown",
   "metadata": {},
   "source": [
    "### cold start + pareto sweep, full problem"
   ]
  },
  {
   "cell_type": "code",
   "execution_count": 12,
   "metadata": {},
   "outputs": [],
   "source": [
    "initial_weights = full_problem.current_weights()\n",
    "weight_increments = {k: 2 for k in initial_weights}\n",
    "weight_limits = {k: (0.3*iw, 3*iw) for k, iw in initial_weights.items()}"
   ]
  },
  {
   "cell_type": "code",
   "execution_count": 13,
   "metadata": {},
   "outputs": [],
   "source": [
    "cfp = ro.pareto.ClinicallyFeasiblePareto()"
   ]
  },
  {
   "cell_type": "code",
   "execution_count": 14,
   "metadata": {
    "scrolled": true
   },
   "outputs": [],
   "source": [
    "solutions_full = cfp.explore_weights(\n",
    "        full_problem, \n",
    "        initial_weights, \n",
    "        weight_increments, \n",
    "        weight_limits=weight_limits, \n",
    "        dose_constraints=constraints,\n",
    "        verbose_pareto=False,\n",
    "        verbose_constraints=False)"
   ]
  },
  {
   "cell_type": "markdown",
   "metadata": {},
   "source": [
    "### cold start + pareto sweep, clustered problem(s)"
   ]
  },
  {
   "cell_type": "code",
   "execution_count": 15,
   "metadata": {},
   "outputs": [],
   "source": [
    "solutions_clu = cfp.explore_weights(\n",
    "        problem, \n",
    "        initial_weights, \n",
    "        weight_increments, \n",
    "        weight_limits=weight_limits, \n",
    "        dose_constraints=constraints,\n",
    "        verbose_pareto=False,\n",
    "        verbose_dual=False,\n",
    "        verbose_constraints=False)\n",
    "\n",
    "summary = ro.compression.CompressionAnalysis.analyze(solutions_clu, solutions_full)\n",
    "# for other compressed approximations to the same full problem, can perform:\n",
    "# >>> problem.A_vclu.update(new_compressed_matrix_dictionary)\n",
    "# >>> problem.cluster_maps.update(new_cluster_map_dictionary)\n",
    "# and then repeat this cell and any further analysis "
   ]
  },
  {
   "cell_type": "markdown",
   "metadata": {},
   "source": [
    "**_for additional compressed approximations_**\n",
    "to the same full problem, can perform:\n",
    "```python\n",
    "problem.A_bclu.update(new_compressed_matrix_dictionary)\n",
    "problem.cluster_map = update(new_cluster_map)\n",
    "```\n",
    "and then repeat the above cell and any further analysis "
   ]
  },
  {
   "cell_type": "code",
   "execution_count": 16,
   "metadata": {},
   "outputs": [],
   "source": [
    "summary_full = ro.compression.CompressionAnalysis.analyze(solutions_full)"
   ]
  },
  {
   "cell_type": "markdown",
   "metadata": {},
   "source": [
    "## results"
   ]
  },
  {
   "cell_type": "markdown",
   "metadata": {},
   "source": [
    "### tabular"
   ]
  },
  {
   "cell_type": "code",
   "execution_count": 17,
   "metadata": {},
   "outputs": [
    {
     "data": {
      "text/markdown": [
       "\n",
       "dimension |  primal (s) |  dual time (s) |  subopt (%) |  true error (%)\n",
       "-|-|-|-|-\n",
       "(313, 500) | 0.035 | -- | -- | -- \n",
       "(313, 50)| 0.016 | 0.009 | 21.0 | 3.0 "
      ],
      "text/plain": [
       "<IPython.core.display.Markdown object>"
      ]
     },
     "metadata": {},
     "output_type": "display_data"
    }
   ],
   "source": [
    "display(Markdown(IJOC_analyses.bclu_table_cold(summary_full, summary)))"
   ]
  },
  {
   "cell_type": "code",
   "execution_count": 18,
   "metadata": {},
   "outputs": [
    {
     "data": {
      "text/latex": [
       "$$\n",
       "$$\\begin{array}\n",
       "\\mathrm{dimension} &  \\mathrm{primal~(s)} &  \\mathrm{dual~time~(s)} &  \\mathrm{subopt~(\\%)} &  \\mathrm{true~error~(\\%)}\\\\\n",
       "(313, 500) & 0.035 & -- & -- & -- \\\\\n",
       "(313, 50)& 0.016 & 0.009 & 21.0 & 3.0 \\\\\n",
       "\\end{array} $$"
      ],
      "text/plain": [
       "<IPython.core.display.Math object>"
      ]
     },
     "metadata": {},
     "output_type": "display_data"
    }
   ],
   "source": [
    "display(Math(IJOC_analyses.bclu_table_cold(summary_full, summary, latex=True)))"
   ]
  },
  {
   "cell_type": "code",
   "execution_count": 19,
   "metadata": {},
   "outputs": [
    {
     "data": {
      "text/markdown": [
       "\n",
       "dimension |  mean primal time (s) |  median primal time (s) |  mean dual time (s) |  median dual time (s) |  mean subopt (%) |  median subopt (%) |  mean true error (%) |  median true error (%) |  runs\n",
       "-|-|-|-|-|-|-|-|-|-\n",
       "(313, 500) | 0.007 | 0.006 | -- | -- | -- | -- | -- | -- | 38 \n",
       "(313, 50)| 0.010 | 0.011 | 0.009 | 0.008 | 21.7 | 21.7 | 2.8 | 3.0 | 37 "
      ],
      "text/plain": [
       "<IPython.core.display.Markdown object>"
      ]
     },
     "metadata": {},
     "output_type": "display_data"
    }
   ],
   "source": [
    "display(Markdown(IJOC_analyses.bclu_table_warm(summary_full, summary)))"
   ]
  },
  {
   "cell_type": "markdown",
   "metadata": {},
   "source": [
    "### plots"
   ]
  },
  {
   "cell_type": "code",
   "execution_count": 20,
   "metadata": {},
   "outputs": [],
   "source": [
    "y_full = ro.primal.A_mul_x(full_matrices, solutions_full['nominal']['beam_weights'])\n",
    "y_bclu = ro.primal.A_mul_x(full_matrices, solutions_clu['nominal']['beam_weights'])"
   ]
  },
  {
   "cell_type": "code",
   "execution_count": 21,
   "metadata": {},
   "outputs": [],
   "source": [
    "def dvh(voxel_doses):\n",
    "    doses = np.hstack(([0], np.sort(voxel_doses)))\n",
    "    percentiles = np.linspace(100, 0, len(doses + 1))#\n",
    "    return (doses, percentiles)"
   ]
  },
  {
   "cell_type": "code",
   "execution_count": 22,
   "metadata": {},
   "outputs": [
    {
     "data": {
      "text/html": [
       "\n",
       "<div class=\"bk-root\">\n",
       "    <div class=\"bk-plotdiv\" id=\"6c44a6bf-3ad7-4114-b15c-cc5f19464c74\"></div>\n",
       "</div>"
      ]
     },
     "metadata": {},
     "output_type": "display_data"
    },
    {
     "data": {
      "application/javascript": [
       "(function(root) {\n",
       "  function embed_document(root) {\n",
       "    \n",
       "  var docs_json = {\"9a02ac3d-5cf7-43c3-9399-caf3e7f9367c\":{\"roots\":{\"references\":[{\"attributes\":{\"source\":{\"id\":\"d09e80c1-fd5c-46ed-9289-0df79efb0083\",\"type\":\"ColumnDataSource\"}},\"id\":\"ee807f1a-0e31-45fb-a4d6-01e845261505\",\"type\":\"CDSView\"},{\"attributes\":{\"plot\":{\"id\":\"4664ae9e-3b85-454f-881c-0932d2d2f0df\",\"subtype\":\"Figure\",\"type\":\"Plot\"},\"ticker\":{\"id\":\"6b7a9696-0334-4a12-a2bf-2167f550cffb\",\"type\":\"BasicTicker\"}},\"id\":\"6efc3a93-269a-4241-8aa2-348036d928ec\",\"type\":\"Grid\"},{\"attributes\":{\"line_color\":\"orange\",\"line_dash\":[5,2],\"line_width\":2,\"x\":{\"field\":\"x\"},\"y\":{\"field\":\"y\"}},\"id\":\"4a43b0be-3cc9-4188-ac7f-16d8a8c2d2e2\",\"type\":\"Line\"},{\"attributes\":{},\"id\":\"e7c2e484-9923-440f-b872-cee1fc9a97e2\",\"type\":\"WheelZoomTool\"},{\"attributes\":{\"axis_label\":\"Percentile\",\"axis_label_text_font_size\":{\"value\":\"1em\"},\"bounds\":[0,105],\"formatter\":{\"id\":\"b84bf231-788a-4d2f-bba5-4998d7d5471f\",\"type\":\"BasicTickFormatter\"},\"major_label_text_font_size\":{\"value\":\"1em\"},\"plot\":{\"id\":\"4664ae9e-3b85-454f-881c-0932d2d2f0df\",\"subtype\":\"Figure\",\"type\":\"Plot\"},\"ticker\":{\"id\":\"039f1ba9-ed45-486a-bf9b-48dcc2277ba4\",\"type\":\"BasicTicker\"}},\"id\":\"131bb646-1732-479b-872c-8a19a38773f7\",\"type\":\"LinearAxis\"},{\"attributes\":{\"line_alpha\":0.1,\"line_color\":\"#1f77b4\",\"x\":{\"field\":\"x\"},\"y\":{\"field\":\"y\"}},\"id\":\"97c8d0eb-74e3-48d8-8ab1-b3a3e365b6db\",\"type\":\"Line\"},{\"attributes\":{\"source\":{\"id\":\"60d95751-a54d-45a0-8880-23d6b5303bb6\",\"type\":\"ColumnDataSource\"}},\"id\":\"3b297ffd-cb46-422e-aa6c-bdc7afc4b812\",\"type\":\"CDSView\"},{\"attributes\":{\"source\":{\"id\":\"3afac83e-1d9d-4769-89f9-ca3f1b2969e7\",\"type\":\"ColumnDataSource\"}},\"id\":\"3ec49d0e-300e-464e-aa87-ee4f8c47160a\",\"type\":\"CDSView\"},{\"attributes\":{\"label\":{\"value\":\"clustered\"},\"renderers\":[{\"id\":\"e6c020b3-2e1b-4bd6-b9b3-d9518ef98ff6\",\"type\":\"GlyphRenderer\"}]},\"id\":\"d21a08da-dc41-4209-89d7-64ffe072ba5c\",\"type\":\"LegendItem\"},{\"attributes\":{},\"id\":\"5b54fdef-df41-4333-836d-880d09cbdafc\",\"type\":\"ResetTool\"},{\"attributes\":{\"axis_label\":\"Dose (Gy)\",\"axis_label_text_font_size\":{\"value\":\"1em\"},\"bounds\":[0,100],\"formatter\":{\"id\":\"2282be64-4ad2-4f69-bf64-593a5f6d3049\",\"type\":\"BasicTickFormatter\"},\"major_label_text_font_size\":{\"value\":\"1em\"},\"plot\":{\"id\":\"4664ae9e-3b85-454f-881c-0932d2d2f0df\",\"subtype\":\"Figure\",\"type\":\"Plot\"},\"ticker\":{\"id\":\"6b7a9696-0334-4a12-a2bf-2167f550cffb\",\"type\":\"BasicTicker\"}},\"id\":\"28caad1f-ca34-4cbb-aa97-66ac749e9b73\",\"type\":\"LinearAxis\"},{\"attributes\":{\"overlay\":{\"id\":\"1018c7f2-11f4-440d-a788-7cd44fef20f6\",\"type\":\"BoxAnnotation\"}},\"id\":\"d1105223-925a-4af9-aff7-8efa8393ea67\",\"type\":\"BoxZoomTool\"},{\"attributes\":{\"line_color\":\"#1f77b4\",\"x\":{\"field\":\"x\"},\"y\":{\"field\":\"y\"}},\"id\":\"630abe06-b7b9-4694-9928-bd903aa8623e\",\"type\":\"Line\"},{\"attributes\":{\"data_source\":{\"id\":\"3afac83e-1d9d-4769-89f9-ca3f1b2969e7\",\"type\":\"ColumnDataSource\"},\"glyph\":{\"id\":\"32b58ba0-6b0d-42e2-9226-4adbac7d8dcb\",\"type\":\"Line\"},\"hover_glyph\":null,\"muted_glyph\":null,\"nonselection_glyph\":{\"id\":\"cfda6564-31af-447e-ab98-b305efe399d0\",\"type\":\"Line\"},\"selection_glyph\":null,\"view\":{\"id\":\"3ec49d0e-300e-464e-aa87-ee4f8c47160a\",\"type\":\"CDSView\"}},\"id\":\"b378b414-da2b-4a21-9059-b976222d915e\",\"type\":\"GlyphRenderer\"},{\"attributes\":{\"callback\":null},\"id\":\"668fcc6a-5406-49aa-8607-c80d9c12fac9\",\"type\":\"DataRange1d\"},{\"attributes\":{\"callback\":null,\"column_names\":[\"x\",\"y\"],\"data\":{\"x\":{\"__ndarray__\":\"AAAAAAAAAABdxMY/jIFQQOUiUnq+h1BAjnHSpr6KUEBijEZVCJBQQHozDnackFBAahQOAcKUUEDyEdyRq5VQQLrErwUdmFBAoumA7FCcUECmM5nKdp1QQDJ/qw8YnlBAuNErn2agUEA3FMJxMKFQQOCfHxCkoVBAupTc/bihUECKY//YIaNQQPVZQro7pFBAVAuV07WkUEBKu0NUz6VQQGpFhoeZplBAyNBHJmWoUEAl5B1B56hQQFbSjoAGqVBAlsUEzjOqUEDop0ZPn6pQQCKniSJIq1BAyjzAYPqrUEB2AaQnEaxQQLwU1L4vrFBA3sHF4OWtUECaBy0mNq5QQJJVXHbErlBA699Wy9uuUEA2opoO965QQCrB6hRLr1BAOD7AU/OvUEA/c4EmN7BQQJDgcGRysFBAFlQaI3WyUEBkSUYoeLNQQGkgnfTAs1BAQDKDM8KzUEB5/mtTvLVQQLjUu8evtlBAL3SOI6S3UEATjhEHI7hQQHbDxn1auFBA8P3RwDC6UEC0uBHr8rpQQMLtP8i+vFBAWmG/unq9UEDKWxVSvL1QQMJte/aLvlBA3iYVISa/UEBIahUcUL9QQN5vlwULwVBAIpakCsbBUED6ZFcCkcNQQGb9fD6aw1BARBtSA8vDUEBsFTuBK8RQQPfjxK7PxFBAwFRD49fEUEA8MbrAgsVQQBSlfTKTxVBAJONGgsfFUECpXbFoB8dQQKSH3UPrx1BAqNwHqjnIUEBZ9h61RchQQI4DU5IYyVBA9MPF+j7JUEAogUtRVslQQASjGF5kyVBA5GR3annJUEBkRFwPocpQQJwRAnX7ylBAJDrrAPTLUECjrlO6McxQQJo+xkcmzVBA06gdLAjPUECQXsGEHdBQQHZIAkds01BAWJtjAh3WUEDuUnO/etdQQHthrq5i2FBA5aoNdvLYUEDDJo9bGNlQQNbuz7Y62lBAbojpkUvbUEAWdOVHe91QQKsORCX13lBAAR+fzijfUEAXwaVZqeBQQDlgOulH4lBA1naYqxflUEAYxazoo+ZQQIoTi7gC71BA8nXmK1fwUEBG60y2BP9QQA==\",\"dtype\":\"float64\",\"shape\":[101]},\"y\":{\"__ndarray__\":\"AAAAAAAAWUAAAAAAAMBYQAAAAAAAgFhAAAAAAABAWEAAAAAAAABYQAAAAAAAwFdAAAAAAACAV0AAAAAAAEBXQAAAAAAAAFdAAAAAAADAVkAAAAAAAIBWQAAAAAAAQFZAAAAAAAAAVkAAAAAAAMBVQAAAAAAAgFVAAAAAAABAVUAAAAAAAABVQAAAAAAAwFRAAAAAAACAVEAAAAAAAEBUQAAAAAAAAFRAAAAAAADAU0AAAAAAAIBTQAAAAAAAQFNAAAAAAAAAU0AAAAAAAMBSQAAAAAAAgFJAAAAAAABAUkAAAAAAAABSQAAAAAAAwFFAAAAAAACAUUAAAAAAAEBRQAAAAAAAAFFAAAAAAADAUEAAAAAAAIBQQAAAAAAAQFBAAAAAAAAAUEAAAAAAAIBPQAAAAAAAAE9AAAAAAACATkAAAAAAAABOQAAAAAAAgE1AAAAAAAAATUAAAAAAAIBMQAAAAAAAAExAAAAAAACAS0AAAAAAAABLQAAAAAAAgEpAAAAAAAAASkAAAAAAAIBJQAAAAAAAAElAAAAAAACASEAAAAAAAABIQAAAAAAAgEdAAAAAAAAAR0AAAAAAAIBGQAAAAAAAAEZAAAAAAACARUAAAAAAAABFQAAAAAAAgERAAAAAAAAAREAAAAAAAIBDQAAAAAAAAENAAAAAAACAQkAAAAAAAABCQAAAAAAAgEFAAAAAAAAAQUAAAAAAAIBAQAAAAAAAAEBAAAAAAAAAP0AAAAAAAAA+QAAAAAAAAD1AAAAAAAAAPEAAAAAAAAA7QAAAAAAAADpAAAAAAAAAOUAAAAAAAAA4QAAAAAAAADdAAAAAAAAANkAAAAAAAAA1QAAAAAAAADRAAAAAAAAAM0AAAAAAAAAyQAAAAAAAADFAAAAAAAAAMEAAAAAAAAAuQAAAAAAAACxAAAAAAAAAKkAAAAAAAAAoQAAAAAAAACZAAAAAAAAAJEAAAAAAAAAiQAAAAAAAACBAAAAAAAAAHEAAAAAAAAAYQAAAAAAAABRAAAAAAAAAEEAAAAAAAAAIQAAAAAAAAABAAAAAAAAA8D8AAAAAAAAAAA==\",\"dtype\":\"float64\",\"shape\":[101]}},\"selected\":null,\"selection_policy\":null},\"id\":\"f367e182-8f5a-4c7e-a5eb-975c5c504659\",\"type\":\"ColumnDataSource\"},{\"attributes\":{\"line_alpha\":0.1,\"line_color\":\"#1f77b4\",\"line_dash\":[5,2],\"line_width\":2,\"x\":{\"field\":\"x\"},\"y\":{\"field\":\"y\"}},\"id\":\"d4a44eae-8101-4b1e-a81a-cb5c25d8bce6\",\"type\":\"Line\"},{\"attributes\":{\"below\":[{\"id\":\"28caad1f-ca34-4cbb-aa97-66ac749e9b73\",\"type\":\"LinearAxis\"}],\"left\":[{\"id\":\"131bb646-1732-479b-872c-8a19a38773f7\",\"type\":\"LinearAxis\"}],\"renderers\":[{\"id\":\"28caad1f-ca34-4cbb-aa97-66ac749e9b73\",\"type\":\"LinearAxis\"},{\"id\":\"6efc3a93-269a-4241-8aa2-348036d928ec\",\"type\":\"Grid\"},{\"id\":\"131bb646-1732-479b-872c-8a19a38773f7\",\"type\":\"LinearAxis\"},{\"id\":\"4870cea0-700a-42c5-835c-da414937c03a\",\"type\":\"Grid\"},{\"id\":\"1018c7f2-11f4-440d-a788-7cd44fef20f6\",\"type\":\"BoxAnnotation\"},{\"id\":\"cb63f0a2-ac7c-4dac-9749-68e092dfd565\",\"type\":\"Legend\"},{\"id\":\"c19a438a-1187-4390-a157-a8d6f151b754\",\"type\":\"GlyphRenderer\"},{\"id\":\"e6c020b3-2e1b-4bd6-b9b3-d9518ef98ff6\",\"type\":\"GlyphRenderer\"},{\"id\":\"b378b414-da2b-4a21-9059-b976222d915e\",\"type\":\"GlyphRenderer\"},{\"id\":\"ca3bc22c-a7a5-42b4-9eb9-80a71503fbc0\",\"type\":\"GlyphRenderer\"}],\"title\":{\"id\":\"d87b4779-6841-4fac-9d19-fdb19fd0b704\",\"type\":\"Title\"},\"toolbar\":{\"id\":\"ba895a07-590d-4faa-beba-042a361c549c\",\"type\":\"Toolbar\"},\"x_range\":{\"id\":\"ae4cfc90-a13f-4647-a184-2efe4415ef39\",\"type\":\"DataRange1d\"},\"x_scale\":{\"id\":\"7047b75f-9140-46ff-908b-ccb141bc5b77\",\"type\":\"LinearScale\"},\"y_range\":{\"id\":\"668fcc6a-5406-49aa-8607-c80d9c12fac9\",\"type\":\"DataRange1d\"},\"y_scale\":{\"id\":\"d9e830bc-2c59-4fae-b2bc-4d8fa309d34c\",\"type\":\"LinearScale\"}},\"id\":\"4664ae9e-3b85-454f-881c-0932d2d2f0df\",\"subtype\":\"Figure\",\"type\":\"Plot\"},{\"attributes\":{\"items\":[{\"id\":\"ceec782e-a849-4881-9ac9-d8d3fa623f78\",\"type\":\"LegendItem\"},{\"id\":\"d21a08da-dc41-4209-89d7-64ffe072ba5c\",\"type\":\"LegendItem\"}],\"label_text_font_size\":{\"value\":\"1em\"},\"location\":\"bottom_left\",\"plot\":{\"id\":\"4664ae9e-3b85-454f-881c-0932d2d2f0df\",\"subtype\":\"Figure\",\"type\":\"Plot\"}},\"id\":\"cb63f0a2-ac7c-4dac-9749-68e092dfd565\",\"type\":\"Legend\"},{\"attributes\":{\"callback\":null,\"column_names\":[\"x\",\"y\"],\"data\":{\"x\":{\"__ndarray__\":\"AAAAAAAAAABM2gMvgOxNQEym5LXH7U1Atjz2+tPtTUAUlYwY9O5NQKiyJOrF701AsrvSTunyTUCwdltAEvNNQMY6RbXh9E1AGu3IFiz4TUCCmpJvPvhNQAyGhw99+U1Ar8rMYuL5TUBeV2crM/pNQB42gplZ+k1AM3JPfhz7TUC+QkKLY/tNQOo2cv+5+01Ati3nUg38TUBQBOy/JPxNQBqTMP0Q/U1AEvX67hn9TUDLFKPnWf1NQEo2ENPZ/U1A1kenx9v9TUDp58Uelf5NQLhRGMTD/k1ASKQHDmf/TUCC8m3wpv9NQAUXasEeAE5A82KQd0kATkA6cqBJTABOQHpMoXJgAE5AJuCzBaIATkCeWRn8GgFOQIorF5wwAU5AkDyl/B8CTkAQwCgtQgJOQObB7X5SAk5AZOS13aQCTkDFKrZv0QJOQOoOBtrjA05AfMAVr24ETkCYSJ7F3gROQIbuCZLtBE5AMmqOHDoFTkCIXkss2QVOQOjnWhfaBU5AFTCmtuAFTkCPd5ZTIAZOQPhb4Io2B05Ax/j1fKQHTkC2gGYd8QdOQPr2xpCvCE5AdvxUEKYJTkCOc88hxwlOQHS0nd0CCk5AW7yA2AQKTkBNMX3gBwpOQJMivvDQCk5AE5OAcR4LTkBorujTKgtOQKAy9anKC05A2LQ1BCcMTkAUissyPQxOQAR802+MDE5AdubP9+AMTkAePOQm5gxOQB6ldnybDU5AsBlCNwUOTkDOuinoBg5OQAzyxTjHD05AHlXo/0sRTkBaHcDyZBFOQMiTuq+hEU5A7kkmirgRTkBNr4yjGxJOQKEBWWLEEk5A5KkbbpQTTkCwYq4vnhVOQBBHCyEyGU5ADPM5Pl0ZTkAkKY3baBpOQO6CshAwHE5Ado+vrfQdTkBculIPzyBOQK5b+cCxI05AGY5sBsokTkCJs8cI2yhOQFSpNNXeK05AlmYgK7EsTkDygQcmMC9OQP+5K+NdMk5A09Vgg5U4TkBI4nG4DkBOQCbSpFmDRE5ACokyFcBHTkCXe/ZxD05OQNCDj2ohck5ASH43um11TkCMgJAoZLxOQA==\",\"dtype\":\"float64\",\"shape\":[101]},\"y\":{\"__ndarray__\":\"AAAAAAAAWUAAAAAAAMBYQAAAAAAAgFhAAAAAAABAWEAAAAAAAABYQAAAAAAAwFdAAAAAAACAV0AAAAAAAEBXQAAAAAAAAFdAAAAAAADAVkAAAAAAAIBWQAAAAAAAQFZAAAAAAAAAVkAAAAAAAMBVQAAAAAAAgFVAAAAAAABAVUAAAAAAAABVQAAAAAAAwFRAAAAAAACAVEAAAAAAAEBUQAAAAAAAAFRAAAAAAADAU0AAAAAAAIBTQAAAAAAAQFNAAAAAAAAAU0AAAAAAAMBSQAAAAAAAgFJAAAAAAABAUkAAAAAAAABSQAAAAAAAwFFAAAAAAACAUUAAAAAAAEBRQAAAAAAAAFFAAAAAAADAUEAAAAAAAIBQQAAAAAAAQFBAAAAAAAAAUEAAAAAAAIBPQAAAAAAAAE9AAAAAAACATkAAAAAAAABOQAAAAAAAgE1AAAAAAAAATUAAAAAAAIBMQAAAAAAAAExAAAAAAACAS0AAAAAAAABLQAAAAAAAgEpAAAAAAAAASkAAAAAAAIBJQAAAAAAAAElAAAAAAACASEAAAAAAAABIQAAAAAAAgEdAAAAAAAAAR0AAAAAAAIBGQAAAAAAAAEZAAAAAAACARUAAAAAAAABFQAAAAAAAgERAAAAAAAAAREAAAAAAAIBDQAAAAAAAAENAAAAAAACAQkAAAAAAAABCQAAAAAAAgEFAAAAAAAAAQUAAAAAAAIBAQAAAAAAAAEBAAAAAAAAAP0AAAAAAAAA+QAAAAAAAAD1AAAAAAAAAPEAAAAAAAAA7QAAAAAAAADpAAAAAAAAAOUAAAAAAAAA4QAAAAAAAADdAAAAAAAAANkAAAAAAAAA1QAAAAAAAADRAAAAAAAAAM0AAAAAAAAAyQAAAAAAAADFAAAAAAAAAMEAAAAAAAAAuQAAAAAAAACxAAAAAAAAAKkAAAAAAAAAoQAAAAAAAACZAAAAAAAAAJEAAAAAAAAAiQAAAAAAAACBAAAAAAAAAHEAAAAAAAAAYQAAAAAAAABRAAAAAAAAAEEAAAAAAAAAIQAAAAAAAAABAAAAAAAAA8D8AAAAAAAAAAA==\",\"dtype\":\"float64\",\"shape\":[101]}},\"selected\":null,\"selection_policy\":null},\"id\":\"3afac83e-1d9d-4769-89f9-ca3f1b2969e7\",\"type\":\"ColumnDataSource\"},{\"attributes\":{\"callback\":null,\"column_names\":[\"y\",\"x\"],\"data\":{\"x\":{\"__ndarray__\":\"AAAAAAAAAAB4aPFHXu5NQLCxoV+i+E1ANDb3LWn6TUCcbKyBYPtNQOCw5Q1y+01AELC74n/7TUBxdfxtb/xNQMbyXe6o/E1AQFSC99z8TUDss2WZJf1NQK4cYPc1/U1A3Nhci1z+TUBo6zHsNP9NQEQ0nBJY/01AHmi74sz/TUBOsVy9zwBOQOS4ZzoxAU5AeonsvcsBTkBhCDEZZQJOQEIDV7DJAk5AWHHMWqwDTkBOO6DdwQNOQE8CDCJlBE5AFf64+6IGTkDRe9c+7QdOQEB0bLcRCE5AhNIlo1YJTkCj0Ff6YwlOQA6Yt74JC05A+OGFnwoLTkDQ3+JnAQxOQGa7GtRADE5AvQJKfegOTkAXIFT2bhBOQIKQi/zJEU5A3HsjXNYRTkDDPgONUxNOQFRGukRLFE5AXzENBOQVTkBYmXYJxhdOQGWfKdJKGE5Aw54UIbYYTkBvWX0erhlOQNawoVvFGU5AFJApAiYaTkCMHMwpMhxOQAb9L4ddIE5AjwcfvJMgTkCNL6s+viBOQEQtsHf7IU5AZjQ2RyYiTkAq8bfkbiJOQNX5xZuSIk5A+YWwHm4kTkCgEl8H8iVOQGpUSAkeJ05AnoBBh9UoTkAoeyMvMSpOQFBTjD42Kk5An9tkjZYqTkC26O93GStOQAo6UoqYLE5AN9erEqcsTkB0wZJ2ty5OQCzIGvgGME5AWpgofjYyTkBMowr1ZDNOQKjy5X3HM05AxlNLHgo0TkCuSxEFiTROQIuCll0DN05AuuCzU7g7TkDbnfZCMjxOQHjacPHUPU5A9V1Pdw0/TkAwJVAhwUFOQNSloQQbQk5A1lw8aBlETkC4rZ0GNEhOQH0bWCxtUk5A23fD7v1UTkDuUlakW1VOQMak0veKVU5ATcL9PslVTkD2HVC3hlZOQGJdZS6qV05AetZzLmBaTkBtef2O4VtOQIZGd38CXE5Ad743Os5iTkDmwPb20WROQPJ8M0BsaE5ApfVkuR5rTkD27bPo529OQKCB4VmSd05ACpS+c0p7TkD8H7S58IhOQJXu3cFUkE5AN/RGKwyWTkDPy85fE5xOQA==\",\"dtype\":\"float64\",\"shape\":[101]},\"y\":{\"__ndarray__\":\"AAAAAAAAWUAAAAAAAMBYQAAAAAAAgFhAAAAAAABAWEAAAAAAAABYQAAAAAAAwFdAAAAAAACAV0AAAAAAAEBXQAAAAAAAAFdAAAAAAADAVkAAAAAAAIBWQAAAAAAAQFZAAAAAAAAAVkAAAAAAAMBVQAAAAAAAgFVAAAAAAABAVUAAAAAAAABVQAAAAAAAwFRAAAAAAACAVEAAAAAAAEBUQAAAAAAAAFRAAAAAAADAU0AAAAAAAIBTQAAAAAAAQFNAAAAAAAAAU0AAAAAAAMBSQAAAAAAAgFJAAAAAAABAUkAAAAAAAABSQAAAAAAAwFFAAAAAAACAUUAAAAAAAEBRQAAAAAAAAFFAAAAAAADAUEAAAAAAAIBQQAAAAAAAQFBAAAAAAAAAUEAAAAAAAIBPQAAAAAAAAE9AAAAAAACATkAAAAAAAABOQAAAAAAAgE1AAAAAAAAATUAAAAAAAIBMQAAAAAAAAExAAAAAAACAS0AAAAAAAABLQAAAAAAAgEpAAAAAAAAASkAAAAAAAIBJQAAAAAAAAElAAAAAAACASEAAAAAAAABIQAAAAAAAgEdAAAAAAAAAR0AAAAAAAIBGQAAAAAAAAEZAAAAAAACARUAAAAAAAABFQAAAAAAAgERAAAAAAAAAREAAAAAAAIBDQAAAAAAAAENAAAAAAACAQkAAAAAAAABCQAAAAAAAgEFAAAAAAAAAQUAAAAAAAIBAQAAAAAAAAEBAAAAAAAAAP0AAAAAAAAA+QAAAAAAAAD1AAAAAAAAAPEAAAAAAAAA7QAAAAAAAADpAAAAAAAAAOUAAAAAAAAA4QAAAAAAAADdAAAAAAAAANkAAAAAAAAA1QAAAAAAAADRAAAAAAAAAM0AAAAAAAAAyQAAAAAAAADFAAAAAAAAAMEAAAAAAAAAuQAAAAAAAACxAAAAAAAAAKkAAAAAAAAAoQAAAAAAAACZAAAAAAAAAJEAAAAAAAAAiQAAAAAAAACBAAAAAAAAAHEAAAAAAAAAYQAAAAAAAABRAAAAAAAAAEEAAAAAAAAAIQAAAAAAAAABAAAAAAAAA8D8AAAAAAAAAAA==\",\"dtype\":\"float64\",\"shape\":[101]}},\"selected\":null,\"selection_policy\":null},\"id\":\"60d95751-a54d-45a0-8880-23d6b5303bb6\",\"type\":\"ColumnDataSource\"},{\"attributes\":{\"data_source\":{\"id\":\"60d95751-a54d-45a0-8880-23d6b5303bb6\",\"type\":\"ColumnDataSource\"},\"glyph\":{\"id\":\"4a43b0be-3cc9-4188-ac7f-16d8a8c2d2e2\",\"type\":\"Line\"},\"hover_glyph\":null,\"muted_glyph\":null,\"nonselection_glyph\":{\"id\":\"1cb51682-449e-442a-8b80-1c6f6b8b22c2\",\"type\":\"Line\"},\"selection_glyph\":null,\"view\":{\"id\":\"3b297ffd-cb46-422e-aa6c-bdc7afc4b812\",\"type\":\"CDSView\"}},\"id\":\"ca3bc22c-a7a5-42b4-9eb9-80a71503fbc0\",\"type\":\"GlyphRenderer\"},{\"attributes\":{\"active_drag\":\"auto\",\"active_inspect\":\"auto\",\"active_scroll\":\"auto\",\"active_tap\":\"auto\",\"tools\":[{\"id\":\"3de01465-276c-4859-8710-c96bc5363b66\",\"type\":\"PanTool\"},{\"id\":\"e7c2e484-9923-440f-b872-cee1fc9a97e2\",\"type\":\"WheelZoomTool\"},{\"id\":\"d1105223-925a-4af9-aff7-8efa8393ea67\",\"type\":\"BoxZoomTool\"},{\"id\":\"908b7648-8f19-45bc-9438-c37211f6fd5f\",\"type\":\"SaveTool\"},{\"id\":\"5b54fdef-df41-4333-836d-880d09cbdafc\",\"type\":\"ResetTool\"},{\"id\":\"5d6e2535-7499-4c0f-a740-ff5bfaf927eb\",\"type\":\"HelpTool\"}]},\"id\":\"ba895a07-590d-4faa-beba-042a361c549c\",\"type\":\"Toolbar\"},{\"attributes\":{},\"id\":\"3de01465-276c-4859-8710-c96bc5363b66\",\"type\":\"PanTool\"},{\"attributes\":{\"line_color\":\"orange\",\"x\":{\"field\":\"x\"},\"y\":{\"field\":\"y\"}},\"id\":\"32b58ba0-6b0d-42e2-9226-4adbac7d8dcb\",\"type\":\"Line\"},{\"attributes\":{\"label\":{\"value\":\"full\"},\"renderers\":[{\"id\":\"c19a438a-1187-4390-a157-a8d6f151b754\",\"type\":\"GlyphRenderer\"}]},\"id\":\"ceec782e-a849-4881-9ac9-d8d3fa623f78\",\"type\":\"LegendItem\"},{\"attributes\":{\"data_source\":{\"id\":\"f367e182-8f5a-4c7e-a5eb-975c5c504659\",\"type\":\"ColumnDataSource\"},\"glyph\":{\"id\":\"8aeac8e1-7358-4485-a424-a3db9875ca25\",\"type\":\"Line\"},\"hover_glyph\":null,\"muted_glyph\":null,\"nonselection_glyph\":{\"id\":\"d4a44eae-8101-4b1e-a81a-cb5c25d8bce6\",\"type\":\"Line\"},\"selection_glyph\":null,\"view\":{\"id\":\"57feb307-7612-4e79-85ba-22ced500cd99\",\"type\":\"CDSView\"}},\"id\":\"e6c020b3-2e1b-4bd6-b9b3-d9518ef98ff6\",\"type\":\"GlyphRenderer\"},{\"attributes\":{\"source\":{\"id\":\"f367e182-8f5a-4c7e-a5eb-975c5c504659\",\"type\":\"ColumnDataSource\"}},\"id\":\"57feb307-7612-4e79-85ba-22ced500cd99\",\"type\":\"CDSView\"},{\"attributes\":{\"callback\":null,\"column_names\":[\"y\",\"x\"],\"data\":{\"x\":{\"__ndarray__\":\"AAAAAAAAAADOLOj7+XdQQEX1olIseFBAA1lbeIp4UEBXRzSTm3pQQPdH6tb+fFBA1gnqXjp+UEBAuq/sWH5QQB3wdS5kflBAX6dH95B+UECPvaEArH5QQIjybuG7flBAIvTuqdJ+UECe01OCFX9QQDaFJ0Agf1BAyx1i5pZ/UECGsE/fu39QQFeUIoUFgFBAhjjpPn2AUECO0XAYrIBQQEaznC0mgVBAY0LuujCBUEAsTG/uNIFQQIIwqcWkglBA+iPWaj6DUECw3Lzlh4NQQPaxu3e3g1BAFR1mXgeEUEAl6ZBnyoRQQOHT8bYwhVBArtrBoqmFUEB4Qp6xsYVQQEoO6ynLhVBA3e+nfhCGUED2CGS6MIZQQBCIC3uHhlBAFWFNRpeGUEBXOVzdIYdQQI+7cxOth1BAQxsM3bqHUEBueWpaBohQQGRO8JCMiFBAkaM06t+IUEDRHyj9+4lQQHTR+JgxilBASlJR4WGKUEDth2S2DItQQDqfZ5xAi1BABLke2zWMUEDEr86bzIxQQMqhjqCMjlBA4EvxipOOUEAYhy7KlY9QQJVnH43RkFBACsjryh6UUEDOHlmOKZVQQMCXyPNgllBAODCWrW+WUEAuuG3F3pZQQPNFrJYyl1BAeRdGjk+YUECw0KahtphQQEY8s4OFmVBAlf/S0NWaUECy3hJPR5xQQFFYyhuLnFBAKrt6uHGdUED+yQPO051QQL0/8vHenlBA/JYYVfOeUEAaKn6nGZ9QQPbfGaQ+oFBAQhY3EU+hUEBKPldhlaJQQFTkEJ+po1BA4Jb99C2kUEA/Q/hSxaRQQPr8L4nHpFBAf1oNDEWlUEBQPkxTmKVQQIMmwvK9pVBAmtsioxanUEBt9e9R6ahQQNjhfpM1qlBAxXcUryKyUEBwyE3/1rZQQOeFVXv5tlBA5EI31D+3UEDqa0hjVLdQQEgTdZY/uFBAyN/l9pm5UEAGx2cmsLlQQOYRNrmru1BAG6jALWG8UEBsm2UoAL1QQMfdbqzrvlBAsBgSwnTIUECXbLRKjNNQQHKeC7ur1lBAdW0vX/PjUEC2AlOD4uRQQA==\",\"dtype\":\"float64\",\"shape\":[101]},\"y\":{\"__ndarray__\":\"AAAAAAAAWUAAAAAAAMBYQAAAAAAAgFhAAAAAAABAWEAAAAAAAABYQAAAAAAAwFdAAAAAAACAV0AAAAAAAEBXQAAAAAAAAFdAAAAAAADAVkAAAAAAAIBWQAAAAAAAQFZAAAAAAAAAVkAAAAAAAMBVQAAAAAAAgFVAAAAAAABAVUAAAAAAAABVQAAAAAAAwFRAAAAAAACAVEAAAAAAAEBUQAAAAAAAAFRAAAAAAADAU0AAAAAAAIBTQAAAAAAAQFNAAAAAAAAAU0AAAAAAAMBSQAAAAAAAgFJAAAAAAABAUkAAAAAAAABSQAAAAAAAwFFAAAAAAACAUUAAAAAAAEBRQAAAAAAAAFFAAAAAAADAUEAAAAAAAIBQQAAAAAAAQFBAAAAAAAAAUEAAAAAAAIBPQAAAAAAAAE9AAAAAAACATkAAAAAAAABOQAAAAAAAgE1AAAAAAAAATUAAAAAAAIBMQAAAAAAAAExAAAAAAACAS0AAAAAAAABLQAAAAAAAgEpAAAAAAAAASkAAAAAAAIBJQAAAAAAAAElAAAAAAACASEAAAAAAAABIQAAAAAAAgEdAAAAAAAAAR0AAAAAAAIBGQAAAAAAAAEZAAAAAAACARUAAAAAAAABFQAAAAAAAgERAAAAAAAAAREAAAAAAAIBDQAAAAAAAAENAAAAAAACAQkAAAAAAAABCQAAAAAAAgEFAAAAAAAAAQUAAAAAAAIBAQAAAAAAAAEBAAAAAAAAAP0AAAAAAAAA+QAAAAAAAAD1AAAAAAAAAPEAAAAAAAAA7QAAAAAAAADpAAAAAAAAAOUAAAAAAAAA4QAAAAAAAADdAAAAAAAAANkAAAAAAAAA1QAAAAAAAADRAAAAAAAAAM0AAAAAAAAAyQAAAAAAAADFAAAAAAAAAMEAAAAAAAAAuQAAAAAAAACxAAAAAAAAAKkAAAAAAAAAoQAAAAAAAACZAAAAAAAAAJEAAAAAAAAAiQAAAAAAAACBAAAAAAAAAHEAAAAAAAAAYQAAAAAAAABRAAAAAAAAAEEAAAAAAAAAIQAAAAAAAAABAAAAAAAAA8D8AAAAAAAAAAA==\",\"dtype\":\"float64\",\"shape\":[101]}},\"selected\":null,\"selection_policy\":null},\"id\":\"d09e80c1-fd5c-46ed-9289-0df79efb0083\",\"type\":\"ColumnDataSource\"},{\"attributes\":{\"callback\":null},\"id\":\"ae4cfc90-a13f-4647-a184-2efe4415ef39\",\"type\":\"DataRange1d\"},{\"attributes\":{},\"id\":\"6b7a9696-0334-4a12-a2bf-2167f550cffb\",\"type\":\"BasicTicker\"},{\"attributes\":{\"line_alpha\":0.1,\"line_color\":\"#1f77b4\",\"x\":{\"field\":\"x\"},\"y\":{\"field\":\"y\"}},\"id\":\"cfda6564-31af-447e-ab98-b305efe399d0\",\"type\":\"Line\"},{\"attributes\":{},\"id\":\"039f1ba9-ed45-486a-bf9b-48dcc2277ba4\",\"type\":\"BasicTicker\"},{\"attributes\":{\"bottom_units\":\"screen\",\"fill_alpha\":{\"value\":0.5},\"fill_color\":{\"value\":\"lightgrey\"},\"left_units\":\"screen\",\"level\":\"overlay\",\"line_alpha\":{\"value\":1.0},\"line_color\":{\"value\":\"black\"},\"line_dash\":[4,4],\"line_width\":{\"value\":2},\"plot\":null,\"render_mode\":\"css\",\"right_units\":\"screen\",\"top_units\":\"screen\"},\"id\":\"1018c7f2-11f4-440d-a788-7cd44fef20f6\",\"type\":\"BoxAnnotation\"},{\"attributes\":{\"line_alpha\":0.1,\"line_color\":\"#1f77b4\",\"line_dash\":[5,2],\"line_width\":2,\"x\":{\"field\":\"x\"},\"y\":{\"field\":\"y\"}},\"id\":\"1cb51682-449e-442a-8b80-1c6f6b8b22c2\",\"type\":\"Line\"},{\"attributes\":{\"dimension\":1,\"plot\":{\"id\":\"4664ae9e-3b85-454f-881c-0932d2d2f0df\",\"subtype\":\"Figure\",\"type\":\"Plot\"},\"ticker\":{\"id\":\"039f1ba9-ed45-486a-bf9b-48dcc2277ba4\",\"type\":\"BasicTicker\"}},\"id\":\"4870cea0-700a-42c5-835c-da414937c03a\",\"type\":\"Grid\"},{\"attributes\":{},\"id\":\"908b7648-8f19-45bc-9438-c37211f6fd5f\",\"type\":\"SaveTool\"},{\"attributes\":{},\"id\":\"2282be64-4ad2-4f69-bf64-593a5f6d3049\",\"type\":\"BasicTickFormatter\"},{\"attributes\":{\"data_source\":{\"id\":\"d09e80c1-fd5c-46ed-9289-0df79efb0083\",\"type\":\"ColumnDataSource\"},\"glyph\":{\"id\":\"630abe06-b7b9-4694-9928-bd903aa8623e\",\"type\":\"Line\"},\"hover_glyph\":null,\"muted_glyph\":null,\"nonselection_glyph\":{\"id\":\"97c8d0eb-74e3-48d8-8ab1-b3a3e365b6db\",\"type\":\"Line\"},\"selection_glyph\":null,\"view\":{\"id\":\"ee807f1a-0e31-45fb-a4d6-01e845261505\",\"type\":\"CDSView\"}},\"id\":\"c19a438a-1187-4390-a157-a8d6f151b754\",\"type\":\"GlyphRenderer\"},{\"attributes\":{},\"id\":\"5d6e2535-7499-4c0f-a740-ff5bfaf927eb\",\"type\":\"HelpTool\"},{\"attributes\":{\"line_color\":\"#1f77b4\",\"line_dash\":[5,2],\"line_width\":2,\"x\":{\"field\":\"x\"},\"y\":{\"field\":\"y\"}},\"id\":\"8aeac8e1-7358-4485-a424-a3db9875ca25\",\"type\":\"Line\"},{\"attributes\":{},\"id\":\"7047b75f-9140-46ff-908b-ccb141bc5b77\",\"type\":\"LinearScale\"},{\"attributes\":{},\"id\":\"b84bf231-788a-4d2f-bba5-4998d7d5471f\",\"type\":\"BasicTickFormatter\"},{\"attributes\":{\"plot\":null,\"text\":\"\"},\"id\":\"d87b4779-6841-4fac-9d19-fdb19fd0b704\",\"type\":\"Title\"},{\"attributes\":{},\"id\":\"d9e830bc-2c59-4fae-b2bc-4d8fa309d34c\",\"type\":\"LinearScale\"}],\"root_ids\":[\"4664ae9e-3b85-454f-881c-0932d2d2f0df\"]},\"title\":\"Bokeh Application\",\"version\":\"0.12.15\"}};\n",
       "  var render_items = [{\"docid\":\"9a02ac3d-5cf7-43c3-9399-caf3e7f9367c\",\"elementid\":\"6c44a6bf-3ad7-4114-b15c-cc5f19464c74\",\"modelid\":\"4664ae9e-3b85-454f-881c-0932d2d2f0df\"}];\n",
       "  root.Bokeh.embed.embed_items_notebook(docs_json, render_items);\n",
       "\n",
       "  }\n",
       "  if (root.Bokeh !== undefined) {\n",
       "    embed_document(root);\n",
       "  } else {\n",
       "    var attempts = 0;\n",
       "    var timer = setInterval(function(root) {\n",
       "      if (root.Bokeh !== undefined) {\n",
       "        embed_document(root);\n",
       "        clearInterval(timer);\n",
       "      }\n",
       "      attempts++;\n",
       "      if (attempts > 100) {\n",
       "        console.log(\"Bokeh: ERROR: Unable to run BokehJS code because BokehJS library is missing\")\n",
       "        clearInterval(timer);\n",
       "      }\n",
       "    }, 10, root)\n",
       "  }\n",
       "})(window);"
      ],
      "application/vnd.bokehjs_exec.v0+json": ""
     },
     "metadata": {
      "application/vnd.bokehjs_exec.v0+json": {
       "id": "4664ae9e-3b85-454f-881c-0932d2d2f0df"
      }
     },
     "output_type": "display_data"
    }
   ],
   "source": [
    "plot = bokeh.plotting.figure()\n",
    "plot.line(*dvh(y_full[0]), legend='full')\n",
    "plot.line(*dvh(y_bclu[0]), line_dash=[5,2], line_width=2, legend='clustered')\n",
    "plot.line(*dvh(y_full[1]), color='orange')\n",
    "plot.line(*dvh(y_bclu[1]), color='orange', line_dash=[5,2], line_width=2)\n",
    "plot.xaxis.axis_label = 'Dose (Gy)'\n",
    "plot.yaxis.axis_label = 'Percentile'\n",
    "plot.xaxis.axis_label_text_font_size = '1em'\n",
    "plot.yaxis.axis_label_text_font_size = '1em'\n",
    "plot.xaxis.major_label_text_font_size = '1em'\n",
    "plot.yaxis.major_label_text_font_size = '1em'\n",
    "plot.legend.label_text_font_size = '1em'\n",
    "plot.legend.location = 'bottom_left'\n",
    "plot.yaxis.bounds = [0,105]\n",
    "plot.xaxis.bounds = [0, 100]\n",
    "bokeh.plotting.show(plot)"
   ]
  },
  {
   "cell_type": "code",
   "execution_count": null,
   "metadata": {},
   "outputs": [],
   "source": []
  },
  {
   "cell_type": "code",
   "execution_count": null,
   "metadata": {},
   "outputs": [],
   "source": []
  }
 ],
 "metadata": {
  "kernelspec": {
   "display_name": "Python 2",
   "language": "python",
   "name": "python2"
  },
  "language_info": {
   "codemirror_mode": {
    "name": "ipython",
    "version": 2
   },
   "file_extension": ".py",
   "mimetype": "text/x-python",
   "name": "python",
   "nbconvert_exporter": "python",
   "pygments_lexer": "ipython2",
   "version": "2.7.13"
  }
 },
 "nbformat": 4,
 "nbformat_minor": 1
}
